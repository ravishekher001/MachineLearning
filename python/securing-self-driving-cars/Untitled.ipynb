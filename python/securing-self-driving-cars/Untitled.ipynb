{
 "cells": [
  {
   "cell_type": "markdown",
   "metadata": {},
   "source": [
    "## Securing components of a self-driving car"
   ]
  },
  {
   "cell_type": "markdown",
   "metadata": {},
   "source": [
    "## Abstract\n",
    "A self driving car has many additional hardware and software components than a traditional car. The most obvious ones are lidars, radars and sensors used to percieve its environment. The data from these sensors is processed by a high speed in-vehicle computer connected to a network of Electronic Computing Units (ECUs) which communicate over a Controller Area Network (CAN) bus. Various aspects of the car can be controlled by ECUs. From a security standpoint, it is important address any security threats introducted through these sensors. A lot of research has gone into safegaurding these sensors. Due to this explosion of connectivity, protecting in-vehicle network from cyber-attacks becomes an important issue. \n",
    "\n",
    "\n",
    "In addition, a self driving car makes use of sophisticated in-vehicle computers running software which  \n",
    "\n",
    "\n",
    "\n",
    "Another important difference is the computers that are present. It takes significant computational power to process the sensor input and make decisions about the world around the vehicle.\n",
    "\n",
    "Levels of self driving cars\n",
    "Sensors available in self driving cars \n",
    "Ecu’s and how they communicate with each other. \n",
    "The CAN protocol and Can bus architecture.\n",
    "Potential risk of hackers getting into the CAN bus and spoofing an ECU \n",
    "\n",
    "Self driving car rely heavily on its sensors to perceive their environment. \n",
    "An attacker can meddle with the camera, radar, lidar \n",
    "\n",
    "A lot of attention has been given to securing self driving cars by making use of a variety of techniques to safeguard the sensors: lidars, radars, cameras. But little attention is given to securing the controller area network.\n",
    "\n",
    "With the rapid adoption of self driving cars it is vitally important to come up with news ways to secure a self driving car.  A lot of focus in securing a self driving car has been toward sensors. There is very little"
   ]
  },
  {
   "cell_type": "markdown",
   "metadata": {},
   "source": [
    "Abstract— A self-driving car has many additional hardware and software components than a traditional car. The most obvious ones are LIDARs, radars, cameras and sensors used to perceive its environment. The data from these devices feed into an in-vehicular network of connected devices which processes this input data and outputs commands that control the vehcile. From a security standpoint, this increased connectivity and seamless integration presents many challenges. The security threats can be broadly classified into two categories: sensor related threats and in-vehicular network threats. A lot of research went into understanding the former category but very little research has been done in the latter category. The goal of this paper is to provide a machine learning approach to detecting attacks on Controller Area Network (CAN) protocol - which is standard protocol used for reliable and efficient transmission between in-vehicle nodes in real-time. By dissecting a CAN frame it is possible to extract features which can be used to train a learner to distinguish between normal frames and attack frames. "
   ]
  },
  {
   "cell_type": "markdown",
   "metadata": {},
   "source": [
    "Introduction:\n",
    "As self-driving cars have lots of connectivity, protecting in-vehicular network from cyber-attacks becomes an important issue. Modern vehicles are full of little embedded systems and electronic control units (ECUs) that can communicate using the CAN protocol. Controller Area Network (CAN) is a bus communication protocol which defines a standard for reliable and efficient transmission between in-vehicle nodes. The CAN protocol is the backbone for embedded computers found in self-driving cars. \n",
    "\n",
    "In CAN protocol, there are four types of standard CAN frames: (1) Data frame: It is the only frame for the purpose of data transmission. (2) Remote frame: It is used to request a data frame to a destination node. If a node broadcasts a remote frame having a particular identifier, a node which generates the corresponding identifier broadcasts a data frame immediately as a response. (3) Error frame: It is used to notify that there is an error in a currently transmitted frame. (4) Overload frame: It is used to delay a start of the next message when CAN controller does not finish processing the current message yet. A CAN message is broadcast from a transmitter to other nodes. A key characteristic of a CAN message is that it does not contain information about the source and destination address for validation. The receiving node does not validate the origin of a CAN message. Thus, if an attacker injects malicious messages, the other nodes will inevitably deal with them, and it can impair the bus communication. This property causes vulnerabilities in CAN protocol.\n",
    "\n",
    "Possible attacks: \n",
    "DoS attack is a message injection attack wherein the attacker employs packet flooding to compromise the priority-based arbitration scheme of CAN. This allows one node to declare dominant status indefinitely on the bus and the other nodes to retreat. Thus the CAN protocol is vulnerable to the traffic volume based DoS attack.\n",
    "\n",
    "Fuzzy attack is when an attacker injects randomly spoofed identifiers having arbitrary data. Since the range of valid CAN messages is relatively narrow, a simple fuzzy attack can override normal outputs of existing nodes or reset some internal conditions of a vehicle. This has the potential for causing unintentional behaviors or malfunctions in vehicles. \n",
    "\n",
    "Impersonation attack or spoofing attack occurs when an attacker injects messages with a certain CAN ID, for example CAN ID of gear box, which paralyzes the target node and performs the same role of the stopped node. If an impersonating node takes the stopped node's role for malicious purpose, then it can cause considerable damage to the vehicle. \n",
    "\n",
    "Detecting attacks:\n",
    "Rather than procedurally trying to detect these attacks, Supervised machine learning techniques can be used to train a model to learn the network traffic patterns of these attacks. This trained model can then be deployed to a bus monitoring module which can detect these attacks in real-time.\n",
    "\n",
    "Dataset:\n",
    "Car-hacking dataset for intrusion detection [3] contains network traffic captured for DoS attack, fuzzy attack, spoofing the drive gear attack and spoofing the RPM gauge attack. Datasets were contructed by logging CAN traffic via the OBD-II port from a real vehicle when the attacks were simulated. "
   ]
  },
  {
   "cell_type": "markdown",
   "metadata": {},
   "source": [
    "As modern vehicles have lots of connectivity, protecting in-vehicle network from cyber-attacks becomes an important issue. Controller Area Network (CAN) is a de facto standard for the in-vehicle network. But, lack of security features of CAN protocol makes vehicles vulnerable to attacks."
   ]
  },
  {
   "cell_type": "markdown",
   "metadata": {},
   "source": [
    "In March of 2018, Arizona made it legal for autonomous vehicles to have no driver [6].  This was the first law allowing level 4 and 5 autonomy.  Since May of 2018, California allows a self-driving car without a driver with some restrictions in pilot programs [7].  These restrictions include that a remote operator must be monitoring the vehicle.  Also, no money can be charged to the passengers for the ride and the vehicle requires a way to communicate with passengers or law enforcement officials in the event of an accident.  Most interesting for this discussion, the California regulations also specify that the vehicles needed “industry best” protection against cyber-attacks. \n",
    "\n"
   ]
  },
  {
   "cell_type": "markdown",
   "metadata": {},
   "source": [
    "## References:\n",
    "http://illmatics.com/securing_self_driving_cars.pdf"
   ]
  }
 ],
 "metadata": {
  "kernelspec": {
   "display_name": "Python 3",
   "language": "python",
   "name": "python3"
  },
  "language_info": {
   "codemirror_mode": {
    "name": "ipython",
    "version": 3
   },
   "file_extension": ".py",
   "mimetype": "text/x-python",
   "name": "python",
   "nbconvert_exporter": "python",
   "pygments_lexer": "ipython3",
   "version": "3.6.4"
  }
 },
 "nbformat": 4,
 "nbformat_minor": 2
}
