{
 "cells": [
  {
   "cell_type": "markdown",
   "metadata": {},
   "source": [
    "## Exercise 1: Unix Password Cracker\n",
    "1. Create a file called cracker.py. Start your program by reading in the HW2-passwords.txt file and, for each password found in the file, iterate through each dictionary word found in the HW2-dictionary.txt file and appropriate salt value. Report out the password found, if any, for each user. If no password is found, indicate that no password was found."
   ]
  },
  {
   "cell_type": "code",
   "execution_count": 42,
   "metadata": {},
   "outputs": [
    {
     "name": "stdout",
     "output_type": "stream",
     "text": [
      "Password of victim is: egg\n",
      "Password of root is: Not Found\n"
     ]
    }
   ],
   "source": [
    "import crypt as cp\n",
    "\n",
    "# split the line and extract the second entry\n",
    "def getPasswd(line):\n",
    "    return line.split(':')[1]\n",
    "\n",
    "# split the line and extract the first entry\n",
    "def getName(line):\n",
    "    return line.split(':')[0]\n",
    "\n",
    "\n",
    "with open('HW3passwords.txt') as passwds:\n",
    "    for entry in passwds:\n",
    "        name = getName(entry)\n",
    "        passwd = getPasswd(entry)\n",
    "        salt = passwd.strip()[:2]\n",
    "        found = False\n",
    "        with open('HW3dictionary.txt') as dictionary:\n",
    "            for word in dictionary:\n",
    "                if passwd.strip() == cp.crypt(word.strip(), salt):\n",
    "                    found = True\n",
    "                    password = word.strip()\n",
    "                    \n",
    "        if found and (password != None):\n",
    "            print(\"Password of \" + name + \" is: \" + password)\n",
    "        else:\n",
    "            print(\"Password of \" + name + \" is: Not Found\")\n",
    "            "
   ]
  },
  {
   "cell_type": "markdown",
   "metadata": {},
   "source": [
    "2.Using literature review, identify from where you can retrieve the salt value used in generating the signature."
   ]
  },
  {
   "cell_type": "markdown",
   "metadata": {},
   "source": [
    "## Exercise 2: Zip File Password Cracker\n",
    "Write a quick script to test the use of the zipfile library. After importing the library, instantiate a new ZipFile class by specifying the filename of the password-protected zip file (evil.zip). utilize the extractall( ) method and specify the optional parameter for the password (secret). Execute your script and turn in the code and output."
   ]
  },
  {
   "cell_type": "code",
   "execution_count": 71,
   "metadata": {},
   "outputs": [],
   "source": [
    "os.chdir('/Users/Shravan/R/projects/security')"
   ]
  },
  {
   "cell_type": "code",
   "execution_count": 73,
   "metadata": {},
   "outputs": [
    {
     "name": "stdout",
     "output_type": "stream",
     "text": [
      "Current path is: /Users/Shravan/R/projects/security\n",
      "Before unzipping there is only 1 evil zip file\n",
      "['evil_2_2_2_2_2_2_2.zip']\n",
      "After unzipping there is a directory called zip\n",
      "['evil', 'evil_2_2_2_2_2_2_2.zip']\n",
      "Current path is: /Users/Shravan/R/projects/security/evil\n",
      "Contents of evil directory are: \n"
     ]
    },
    {
     "data": {
      "text/plain": [
       "['note_to_adam.txt', 'evil.jpg']"
      ]
     },
     "execution_count": 73,
     "metadata": {},
     "output_type": "execute_result"
    }
   ],
   "source": [
    "import os\n",
    "from glob import glob\n",
    "from zipfile import ZipFile as zipFile\n",
    "\n",
    "print(\"Current path is: \" + os.getcwd())\n",
    "print(\"Before unzipping there is only 1 evil zip file\")\n",
    "print(glob(\"evil*\"))\n",
    "\n",
    "# create ZipFile object and give it the file name\n",
    "file = zipFile('evil_2_2_2_2_2_2_2.zip')\n",
    "\n",
    "# extract the contents of the zip file\n",
    "file.extractall(pwd='secret'.encode())\n",
    "\n",
    "print(\"After unzipping there is a directory called zip\")\n",
    "print(glob(\"evil*\"))\n",
    "\n",
    "# change into evil directory\n",
    "os.chdir('evil')\n",
    "\n",
    "# list the contents of the evil directory\n",
    "print(\"Current path is: \" + os.getcwd())\n",
    "print(\"Contents of evil directory are: \")\n",
    "os.listdir()"
   ]
  },
  {
   "cell_type": "code",
   "execution_count": 75,
   "metadata": {},
   "outputs": [],
   "source": [
    "os.chdir('..')"
   ]
  },
  {
   "cell_type": "code",
   "execution_count": 76,
   "metadata": {},
   "outputs": [
    {
     "name": "stdout",
     "output_type": "stream",
     "text": [
      "Not the right password\n"
     ]
    }
   ],
   "source": [
    "from zipfile import ZipFile as zipFile\n",
    "file = zipFile('evil_2_2_2_2_2_2_2.zip')\n",
    "\n",
    "try:\n",
    "    file.extractall(pwd='password'.encode())\n",
    "except:\n",
    "    print(\"Not the right password\")"
   ]
  },
  {
   "cell_type": "markdown",
   "metadata": {},
   "source": [
    "Use the except Exception exception handler to catch exceptions and print them out when an incorrect password is used. Execute your script with an incorrect password and exception handler and turn in the code and output."
   ]
  },
  {
   "cell_type": "code",
   "execution_count": 83,
   "metadata": {},
   "outputs": [
    {
     "name": "stdout",
     "output_type": "stream",
     "text": [
      "Not the right password: Bad password for file <ZipInfo filename='evil/note_to_adam.txt' compress_type=deflate filemode='-rw-r--r--' file_size=171 compress_size=156>\n"
     ]
    }
   ],
   "source": [
    "from zipfile import ZipFile as zipFile\n",
    "file = zipFile('evil_2_2_2_2_2_2_2.zip')\n",
    "\n",
    "try:\n",
    "    file.extractall(pwd='password'.encode())\n",
    "except Exception as e:\n",
    "    print(\"Not the right password: \" + str(e))"
   ]
  },
  {
   "cell_type": "markdown",
   "metadata": {},
   "source": [
    "Write a script that performs a dictionary attack on the password protected zip file. Execute your script and turn in the code and output. Be sure to provide user feedback on exceptions thrown."
   ]
  },
  {
   "cell_type": "code",
   "execution_count": 90,
   "metadata": {},
   "outputs": [
    {
     "name": "stdout",
     "output_type": "stream",
     "text": [
      "NO, apple is incorrect password\n",
      "NO, orange is incorrect password\n",
      "NO, egg is incorrect password\n",
      "NO, lemon is incorrect password\n",
      "NO, grapes is incorrect password\n",
      "YES, secret is the correct password\n",
      "Contents of zip file are extracted\n"
     ]
    }
   ],
   "source": [
    "from zipfile import ZipFile as zipFile\n",
    "file = zipFile('evil_2_2_2_2_2_2_2.zip')\n",
    "\n",
    "with open('HW3dictionary.txt') as dictionary:\n",
    "    for word in dictionary:\n",
    "        try:\n",
    "            file.extractall(pwd=word.strip().encode())\n",
    "            print(\"YES, \" + word.strip() + \" is the correct password\")\n",
    "            print(\"Contents of zip file are extracted\")\n",
    "            break\n",
    "        except Exception as e:\n",
    "            print(\"NO, \" + word.strip() + \" is incorrect password\")"
   ]
  },
  {
   "cell_type": "markdown",
   "metadata": {},
   "source": [
    "## Exercise 3 : Port Scanner\n",
    "The goal of this exercise is to learn about port scanners for networked systems.\n",
    "First, create a simple Python-based port scanner. Using the socket library, you will create a script that iterates through a range of IP addresses, and, for each IP address, will identify the active ports available for that IP address. At least ports corresponding to telnet, ftp SSH, smtp, http, imap, and https services should be scanned and identified."
   ]
  },
  {
   "cell_type": "code",
   "execution_count": 130,
   "metadata": {},
   "outputs": [],
   "source": [
    "well_known_ports = {\n",
    "    'ftp': 21,\n",
    "    'ssh': 22,\n",
    "    'telnet': 23,\n",
    "    'smtp': 25,\n",
    "    'dns': 53,\n",
    "    'dhcp': 67,\n",
    "    'http': 80,\n",
    "    'pop3': 110,\n",
    "    'ntp': 123,\n",
    "    'imap': 143,\n",
    "    'bgp': 179,\n",
    "    'ldap': 389,\n",
    "    'https': 443,\n",
    "    'ldaps': 636,\n",
    "    'ftps': 989\n",
    "}"
   ]
  },
  {
   "cell_type": "code",
   "execution_count": 136,
   "metadata": {},
   "outputs": [],
   "source": [
    "def checkWellKnownPorts(remoteServerIP):\n",
    "    try:\n",
    "        for portName, port in well_known_ports.items():  \n",
    "            sock = socket.socket(socket.AF_INET, socket.SOCK_STREAM)\n",
    "            sock.settimeout(0.3)\n",
    "            result = sock.connect_ex((remoteServerIP, port))\n",
    "            if result == 0:\n",
    "                print(\"{} port {} is: Open !\".format(portName, port))\n",
    "            else:\n",
    "                print(\"{} port {} is: Closed\".format(portName, port))\n",
    "            sock.close()\n",
    "\n",
    "    except KeyboardInterrupt:\n",
    "        print(\"You pressed Ctrl+C\")\n",
    "        sys.exit()\n",
    "\n",
    "    except socket.gaierror:\n",
    "        print('Hostname could not be resolved. Exiting')\n",
    "        sys.exit()\n",
    "\n",
    "    except socket.error:\n",
    "        print(\"Couldn't connect to server\")\n",
    "        sys.exit()"
   ]
  },
  {
   "cell_type": "code",
   "execution_count": 137,
   "metadata": {},
   "outputs": [
    {
     "name": "stdout",
     "output_type": "stream",
     "text": [
      "ftp port 21 is: Open !\n",
      "ssh port 22 is: Closed\n",
      "telnet port 23 is: Closed\n",
      "smtp port 25 is: Open !\n",
      "dns port 53 is: Closed\n",
      "dhcp port 67 is: Closed\n",
      "http port 80 is: Open !\n",
      "pop3 port 110 is: Open !\n",
      "ntp port 123 is: Closed\n",
      "imap port 143 is: Open !\n",
      "bgp port 179 is: Closed\n",
      "ldap port 389 is: Closed\n",
      "https port 443 is: Open !\n",
      "ldaps port 636 is: Closed\n",
      "ftps port 989 is: Closed\n"
     ]
    }
   ],
   "source": [
    "checkWellKnownPorts('198.46.83.241')"
   ]
  },
  {
   "cell_type": "code",
   "execution_count": 142,
   "metadata": {},
   "outputs": [
    {
     "name": "stdout",
     "output_type": "stream",
     "text": [
      "Checking well known ports for: 198.46.83.240\n",
      "ftp port 21 is: Open !\n",
      "ssh port 22 is: Closed\n",
      "telnet port 23 is: Closed\n",
      "smtp port 25 is: Open !\n",
      "dns port 53 is: Closed\n",
      "dhcp port 67 is: Closed\n",
      "http port 80 is: Open !\n",
      "pop3 port 110 is: Open !\n",
      "ntp port 123 is: Closed\n",
      "imap port 143 is: Open !\n",
      "bgp port 179 is: Closed\n",
      "ldap port 389 is: Closed\n",
      "https port 443 is: Open !\n",
      "ldaps port 636 is: Closed\n",
      "ftps port 989 is: Closed\n",
      "Checking well known ports for: 198.46.83.241\n",
      "ftp port 21 is: Open !\n",
      "ssh port 22 is: Closed\n",
      "telnet port 23 is: Closed\n",
      "smtp port 25 is: Open !\n",
      "dns port 53 is: Closed\n",
      "dhcp port 67 is: Closed\n",
      "http port 80 is: Open !\n",
      "pop3 port 110 is: Open !\n",
      "ntp port 123 is: Closed\n",
      "imap port 143 is: Open !\n",
      "bgp port 179 is: Closed\n",
      "ldap port 389 is: Closed\n",
      "https port 443 is: Open !\n",
      "ldaps port 636 is: Closed\n",
      "ftps port 989 is: Closed\n",
      "Checking well known ports for: 198.46.83.242\n",
      "ftp port 21 is: Open !\n",
      "ssh port 22 is: Closed\n",
      "telnet port 23 is: Closed\n",
      "smtp port 25 is: Open !\n",
      "dns port 53 is: Closed\n",
      "dhcp port 67 is: Closed\n",
      "http port 80 is: Open !\n",
      "pop3 port 110 is: Open !\n",
      "ntp port 123 is: Closed\n",
      "imap port 143 is: Open !\n",
      "bgp port 179 is: Closed\n",
      "ldap port 389 is: Closed\n",
      "https port 443 is: Open !\n",
      "ldaps port 636 is: Closed\n",
      "ftps port 989 is: Closed\n",
      "Checking well known ports for: 198.46.83.243\n",
      "ftp port 21 is: Open !\n",
      "ssh port 22 is: Closed\n",
      "telnet port 23 is: Closed\n",
      "smtp port 25 is: Open !\n",
      "dns port 53 is: Closed\n",
      "dhcp port 67 is: Closed\n",
      "http port 80 is: Open !\n",
      "pop3 port 110 is: Open !\n",
      "ntp port 123 is: Closed\n",
      "imap port 143 is: Open !\n",
      "bgp port 179 is: Closed\n",
      "ldap port 389 is: Closed\n",
      "https port 443 is: Open !\n",
      "ldaps port 636 is: Closed\n",
      "ftps port 989 is: Closed\n",
      "Checking well known ports for: 198.46.83.244\n",
      "ftp port 21 is: Open !\n",
      "ssh port 22 is: Closed\n",
      "telnet port 23 is: Closed\n",
      "smtp port 25 is: Open !\n",
      "dns port 53 is: Closed\n",
      "dhcp port 67 is: Closed\n",
      "http port 80 is: Open !\n",
      "pop3 port 110 is: Open !\n",
      "ntp port 123 is: Closed\n",
      "imap port 143 is: Open !\n",
      "bgp port 179 is: Closed\n",
      "ldap port 389 is: Closed\n",
      "https port 443 is: Open !\n",
      "ldaps port 636 is: Closed\n",
      "ftps port 989 is: Closed\n"
     ]
    }
   ],
   "source": [
    "baseIP = '198.46.83.24'\n",
    "for i in range(5):\n",
    "    print(\"Checking well known ports for: \" + baseIP + str(i))\n",
    "    remoteHostIP = baseIP + str(i)\n",
    "    checkWellKnownPorts(remoteHostIP)"
   ]
  }
 ],
 "metadata": {
  "kernelspec": {
   "display_name": "Python 3",
   "language": "python",
   "name": "python3"
  },
  "language_info": {
   "codemirror_mode": {
    "name": "ipython",
    "version": 3
   },
   "file_extension": ".py",
   "mimetype": "text/x-python",
   "name": "python",
   "nbconvert_exporter": "python",
   "pygments_lexer": "ipython3",
   "version": "3.6.4"
  }
 },
 "nbformat": 4,
 "nbformat_minor": 2
}
