{
 "cells": [
  {
   "cell_type": "markdown",
   "metadata": {},
   "source": [
    "Google discovered a software bug that gave third-party developers access to the private profile data of users of its Google+ social network.\n",
    "\n",
    "In response, Google will shut down the consumer functionality of the service over the next ten months.\n",
    "\n",
    "The glitch was live for nearly three years, according to the reports, but Google decided not to make the bug public because it feared regulation, and has no evidence that the bug was exploited.\n",
    "\n",
    "In response to the bug, Google is shutting down all consumer functionality of Google+.\n",
    "\n",
    "A PGA spokesperson said in an email that the situation is ongoing\n"
   ]
  }
 ],
 "metadata": {
  "kernelspec": {
   "display_name": "Python 3",
   "language": "python",
   "name": "python3"
  },
  "language_info": {
   "codemirror_mode": {
    "name": "ipython",
    "version": 3
   },
   "file_extension": ".py",
   "mimetype": "text/x-python",
   "name": "python",
   "nbconvert_exporter": "python",
   "pygments_lexer": "ipython3",
   "version": "3.6.6"
  }
 },
 "nbformat": 4,
 "nbformat_minor": 2
}
