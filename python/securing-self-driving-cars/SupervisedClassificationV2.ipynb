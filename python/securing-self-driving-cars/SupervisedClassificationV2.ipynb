{
 "cells": [
  {
   "cell_type": "code",
   "execution_count": 1,
   "metadata": {},
   "outputs": [],
   "source": [
    "import pandas as pd\n",
    "import numpy as np\n",
    "import datetime as dt\n",
    "import matplotlib.pyplot as plt\n",
    "import seaborn as sns"
   ]
  },
  {
   "cell_type": "code",
   "execution_count": 2,
   "metadata": {},
   "outputs": [
    {
     "name": "stdout",
     "output_type": "stream",
     "text": [
      "<class 'pandas.core.frame.DataFrame'>\n",
      "RangeIndex: 60000 entries, 0 to 59999\n",
      "Data columns (total 9 columns):\n",
      "data0    60000 non-null int64\n",
      "data1    60000 non-null int64\n",
      "data2    60000 non-null int64\n",
      "data3    60000 non-null int64\n",
      "data4    60000 non-null int64\n",
      "data5    60000 non-null int64\n",
      "data6    60000 non-null int64\n",
      "data7    60000 non-null int64\n",
      "flag     60000 non-null int64\n",
      "dtypes: int64(9)\n",
      "memory usage: 4.1 MB\n"
     ]
    }
   ],
   "source": [
    "#import the data\n",
    "spoofingData = pd.read_csv(\"spoofingSupervisedClassification.csv\")\n",
    "#spoofingData.drop('timestamp', axis=1, inplace=True)\n",
    "spoofingData.info()"
   ]
  },
  {
   "cell_type": "code",
   "execution_count": 3,
   "metadata": {},
   "outputs": [
    {
     "data": {
      "text/plain": [
       "<matplotlib.axes._subplots.AxesSubplot at 0x10a2455c0>"
      ]
     },
     "execution_count": 3,
     "metadata": {},
     "output_type": "execute_result"
    },
    {
     "data": {
      "image/png": "[encoded data removed]",
      "text/plain": [
       "<matplotlib.figure.Figure at 0x10a21bef0>"
      ]
     },
     "metadata": {},
     "output_type": "display_data"
    }
   ],
   "source": [
    "# class distribution\n",
    "fig, ax = plt.subplots(figsize=(16, 7))\n",
    "sns.countplot(\"flag\",data=spoofingData)"
   ]
  },
  {
   "cell_type": "code",
   "execution_count": 4,
   "metadata": {},
   "outputs": [
    {
     "name": "stdout",
     "output_type": "stream",
     "text": [
      "X shape before \n",
      "(60000, 9)\n",
      "X shape after \n",
      "(60000, 8)\n",
      "Y shape after \n",
      "(60000,)\n"
     ]
    }
   ],
   "source": [
    "#Create data = x\n",
    "Cls_X = spoofingData.copy()\n",
    "\n",
    "#create target = Y\n",
    "Cls_y = Cls_X.flag\n",
    "\n",
    "print('X shape before ')\n",
    "print(Cls_X.shape)\n",
    "\n",
    "#drop the response column from the x dataset\n",
    "Cls_X.pop('flag') #drop 'flag'\n",
    "\n",
    "print('X shape after ')\n",
    "print(Cls_X.shape)\n",
    "print('Y shape after ')\n",
    "print(Cls_y.shape)"
   ]
  },
  {
   "cell_type": "code",
   "execution_count": 5,
   "metadata": {},
   "outputs": [],
   "source": [
    "def getRandomList(n):\n",
    "    data = []\n",
    "    for i in range(n):\n",
    "        data.append(np.random.randint(0,255))\n",
    "    return data\n",
    "\n",
    "randomPayload = pd.DataFrame.from_dict({\"data0\":[], \"data1\": [], \"data2\": [], \"data3\": [],\n",
    "                             \"data4\": [], \"data5\": [], \"data6\": [], \"data7\": []})\n",
    "for i in range(8):\n",
    "    col = \"data\" + str(i)\n",
    "    randomPayload[col] = getRandomList(1000)"
   ]
  },
  {
   "cell_type": "code",
   "execution_count": 6,
   "metadata": {},
   "outputs": [
    {
     "data": {
      "text/html": [
       "<div>\n",
       "<style scoped>\n",
       "    .dataframe tbody tr th:only-of-type {\n",
       "        vertical-align: middle;\n",
       "    }\n",
       "\n",
       "    .dataframe tbody tr th {\n",
       "        vertical-align: top;\n",
       "    }\n",
       "\n",
       "    .dataframe thead th {\n",
       "        text-align: right;\n",
       "    }\n",
       "</style>\n",
       "<table border=\"1\" class=\"dataframe\">\n",
       "  <thead>\n",
       "    <tr style=\"text-align: right;\">\n",
       "      <th></th>\n",
       "      <th>data0</th>\n",
       "      <th>data1</th>\n",
       "      <th>data2</th>\n",
       "      <th>data3</th>\n",
       "      <th>data4</th>\n",
       "      <th>data5</th>\n",
       "      <th>data6</th>\n",
       "      <th>data7</th>\n",
       "    </tr>\n",
       "  </thead>\n",
       "  <tbody>\n",
       "    <tr>\n",
       "      <th>0</th>\n",
       "      <td>151</td>\n",
       "      <td>244</td>\n",
       "      <td>56</td>\n",
       "      <td>208</td>\n",
       "      <td>59</td>\n",
       "      <td>97</td>\n",
       "      <td>145</td>\n",
       "      <td>207</td>\n",
       "    </tr>\n",
       "    <tr>\n",
       "      <th>1</th>\n",
       "      <td>80</td>\n",
       "      <td>79</td>\n",
       "      <td>5</td>\n",
       "      <td>216</td>\n",
       "      <td>102</td>\n",
       "      <td>247</td>\n",
       "      <td>85</td>\n",
       "      <td>44</td>\n",
       "    </tr>\n",
       "    <tr>\n",
       "      <th>2</th>\n",
       "      <td>82</td>\n",
       "      <td>22</td>\n",
       "      <td>52</td>\n",
       "      <td>173</td>\n",
       "      <td>1</td>\n",
       "      <td>180</td>\n",
       "      <td>118</td>\n",
       "      <td>32</td>\n",
       "    </tr>\n",
       "    <tr>\n",
       "      <th>3</th>\n",
       "      <td>234</td>\n",
       "      <td>253</td>\n",
       "      <td>111</td>\n",
       "      <td>132</td>\n",
       "      <td>72</td>\n",
       "      <td>8</td>\n",
       "      <td>119</td>\n",
       "      <td>42</td>\n",
       "    </tr>\n",
       "    <tr>\n",
       "      <th>4</th>\n",
       "      <td>110</td>\n",
       "      <td>158</td>\n",
       "      <td>20</td>\n",
       "      <td>234</td>\n",
       "      <td>228</td>\n",
       "      <td>62</td>\n",
       "      <td>65</td>\n",
       "      <td>239</td>\n",
       "    </tr>\n",
       "  </tbody>\n",
       "</table>\n",
       "</div>"
      ],
      "text/plain": [
       "   data0  data1  data2  data3  data4  data5  data6  data7\n",
       "0    151    244     56    208     59     97    145    207\n",
       "1     80     79      5    216    102    247     85     44\n",
       "2     82     22     52    173      1    180    118     32\n",
       "3    234    253    111    132     72      8    119     42\n",
       "4    110    158     20    234    228     62     65    239"
      ]
     },
     "execution_count": 6,
     "metadata": {},
     "output_type": "execute_result"
    }
   ],
   "source": [
    "randomPayload.head()"
   ]
  },
  {
   "cell_type": "code",
   "execution_count": 7,
   "metadata": {},
   "outputs": [],
   "source": [
    "randomPayload['flag'] = 1"
   ]
  },
  {
   "cell_type": "code",
   "execution_count": 8,
   "metadata": {},
   "outputs": [],
   "source": [
    "# create X_new and y_new from random payload\n",
    "X_new = randomPayload.iloc[:, 0:8]\n",
    "y_new = randomPayload.flag\n",
    "\n",
    "# get some goodpackets and badpackets\n",
    "goodPackets = spoofingData.loc[spoofingData.flag == 0]\n",
    "badPackets = spoofingData.loc[spoofingData.flag == 1]\n",
    "\n",
    "# pick 1000 each of good packets and bad packets\n",
    "small_badPackets = badPackets.iloc[:1000,]\n",
    "small_goodPackets = goodPackets.iloc[:1000,]"
   ]
  },
  {
   "cell_type": "code",
   "execution_count": 9,
   "metadata": {},
   "outputs": [],
   "source": [
    "# construct the dataframe with a mix of good packets, bad packets and random packets\n",
    "X_new_good = small_goodPackets.iloc[:, 0:8]\n",
    "y_new_good = small_goodPackets.flag\n",
    "\n",
    "X_new_bad = small_badPackets.iloc[:, 0:8]\n",
    "y_new_bad = small_badPackets.flag\n",
    "\n",
    "X_full = pd.concat([X_new, X_new_good, X_new_bad], axis = 0)\n",
    "y_full = pd.concat([y_new, y_new_good, y_new_bad], axis = 0)"
   ]
  },
  {
   "cell_type": "code",
   "execution_count": 10,
   "metadata": {},
   "outputs": [
    {
     "name": "stdout",
     "output_type": "stream",
     "text": [
      "(3000, 8)\n",
      "(3000,)\n"
     ]
    }
   ],
   "source": [
    "print(X_full.shape)\n",
    "print(y_full.shape)"
   ]
  },
  {
   "cell_type": "code",
   "execution_count": 11,
   "metadata": {},
   "outputs": [],
   "source": [
    "X_full.to_pickle('X_full.pickle')\n",
    "y_full.to_pickle('y_full.pickle')"
   ]
  },
  {
   "cell_type": "markdown",
   "metadata": {},
   "source": [
    "### Training using cross-validation"
   ]
  },
  {
   "cell_type": "markdown",
   "metadata": {},
   "source": [
    "Train the following models:\n",
    "\n",
    "`Linear Models`:\n",
    "- Logistic Regression\n",
    "- SVC\n",
    "- Linear Discriminant Analysis (LDA)\n",
    "\n",
    "`Non-Linear Models`:\n",
    "- Decision Tree\n",
    "- KNN\n",
    "- Naive Bayes"
   ]
  },
  {
   "cell_type": "code",
   "execution_count": 13,
   "metadata": {},
   "outputs": [],
   "source": [
    "# Import classes\n",
    "# model selection\n",
    "from sklearn import metrics\n",
    "from sklearn.model_selection import KFold\n",
    "from sklearn.model_selection import cross_val_score\n",
    "\n",
    "# linear classifiers\n",
    "from sklearn.linear_model import LogisticRegression\n",
    "from sklearn.svm import SVC\n",
    "from sklearn.discriminant_analysis import LinearDiscriminantAnalysis\n",
    "\n",
    "# non-linear classifiers\n",
    "from sklearn.tree import DecisionTreeClassifier\n",
    "from sklearn.neighbors import KNeighborsClassifier\n",
    "from sklearn.naive_bayes import GaussianNB"
   ]
  },
  {
   "cell_type": "code",
   "execution_count": 14,
   "metadata": {},
   "outputs": [],
   "source": [
    "df_X = Cls_X\n",
    "df_y = Cls_y"
   ]
  },
  {
   "cell_type": "code",
   "execution_count": 15,
   "metadata": {},
   "outputs": [
    {
     "name": "stdout",
     "output_type": "stream",
     "text": [
      "LogReg: 1.000000\n",
      "LogReg_C2: 1.000000\n",
      "LogReg_C10: 1.000000\n",
      "SVM: 1.000000\n",
      "LDA: 0.999800\n",
      "KNN: 1.000000\n",
      "CART: 1.000000\n",
      "NB: 1.000000\n",
      "CPU times: user 35.5 s, sys: 1.06 s, total: 36.5 s\n",
      "Wall time: 36.2 s\n"
     ]
    }
   ],
   "source": [
    "%%time\n",
    "# prepare models\n",
    "models = []\n",
    "models.append((\"LogReg\", LogisticRegression()))\n",
    "models.append((\"LogReg_C2\", LogisticRegression(C=2)))\n",
    "models.append((\"LogReg_C10\", LogisticRegression(C=10)))\n",
    "models.append((\"SVM\", SVC()))\n",
    "models.append((\"LDA\", LinearDiscriminantAnalysis()))\n",
    "models.append(('KNN', KNeighborsClassifier()))\n",
    "models.append(('CART', DecisionTreeClassifier()))\n",
    "models.append(('NB', GaussianNB()))\n",
    "\n",
    "\n",
    "# declare results\n",
    "results = []\n",
    "\n",
    "# declare names to hold model names\n",
    "names = []\n",
    "\n",
    "scoring='roc_auc'\n",
    "\n",
    "for name, model in models:\n",
    "    kfold = KFold(n_splits=10, shuffle=True, random_state=4)\n",
    "    cv_results = cross_val_score(model, df_X, df_y, cv=kfold, scoring=scoring)\n",
    "    results.append(cv_results) \n",
    "    names.append(name) \n",
    "    print(\"%s: %f\" %(name, cv_results.mean()))"
   ]
  },
  {
   "cell_type": "code",
   "execution_count": 16,
   "metadata": {},
   "outputs": [],
   "source": [
    "df_X = X_full\n",
    "df_y = y_full"
   ]
  },
  {
   "cell_type": "code",
   "execution_count": 17,
   "metadata": {},
   "outputs": [
    {
     "name": "stdout",
     "output_type": "stream",
     "text": [
      "LogReg: 0.964354\n",
      "LogReg_C2: 0.964504\n",
      "LogReg_C10: 0.963151\n",
      "SVM: 0.986464\n",
      "LDA: 0.959298\n",
      "KNN: 0.995808\n",
      "CART: 0.995192\n",
      "NB: 0.927161\n",
      "CPU times: user 1.87 s, sys: 31.9 ms, total: 1.9 s\n",
      "Wall time: 1.73 s\n"
     ]
    }
   ],
   "source": [
    "%%time\n",
    "# prepare models\n",
    "models = []\n",
    "models.append((\"LogReg\", LogisticRegression()))\n",
    "models.append((\"LogReg_C2\", LogisticRegression(C=2)))\n",
    "models.append((\"LogReg_C10\", LogisticRegression(C=10)))\n",
    "models.append((\"SVM\", SVC()))\n",
    "models.append((\"LDA\", LinearDiscriminantAnalysis()))\n",
    "models.append(('KNN', KNeighborsClassifier()))\n",
    "models.append(('CART', DecisionTreeClassifier()))\n",
    "models.append(('NB', GaussianNB()))\n",
    "\n",
    "\n",
    "# declare results\n",
    "results = []\n",
    "\n",
    "# declare names to hold model names\n",
    "names = []\n",
    "\n",
    "scoring='roc_auc'\n",
    "\n",
    "for name, model in models:\n",
    "    kfold = KFold(n_splits=10, shuffle=True, random_state=4)\n",
    "    cv_results = cross_val_score(model, df_X, df_y, cv=kfold, scoring=scoring)\n",
    "    results.append(cv_results) \n",
    "    names.append(name) \n",
    "    print(\"%s: %f\" %(name, cv_results.mean()))"
   ]
  },
  {
   "cell_type": "code",
   "execution_count": 18,
   "metadata": {},
   "outputs": [
    {
     "data": {
      "image/png": "[encoded data removed]",
      "text/plain": [
       "<matplotlib.figure.Figure at 0x1a1a708ac8>"
      ]
     },
     "metadata": {},
     "output_type": "display_data"
    }
   ],
   "source": [
    "import matplotlib.pyplot as plt\n",
    "fig = plt.figure()\n",
    "fig.suptitle('Model comparision')\n",
    "ax = fig.add_subplot(111)\n",
    "plt.boxplot(results)\n",
    "plt.xlabel(\"Model\")\n",
    "plt.ylabel(\"AUC score\")\n",
    "ax = ax.set_xticklabels(names, rotation='15')"
   ]
  }
 ],
 "metadata": {
  "kernelspec": {
   "display_name": "Python 3",
   "language": "python",
   "name": "python3"
  },
  "language_info": {
   "codemirror_mode": {
    "name": "ipython",
    "version": 3
   },
   "file_extension": ".py",
   "mimetype": "text/x-python",
   "name": "python",
   "nbconvert_exporter": "python",
   "pygments_lexer": "ipython3",
   "version": "3.6.4"
  }
 },
 "nbformat": 4,
 "nbformat_minor": 2
}
