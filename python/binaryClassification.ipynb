{
 "cells": [
  {
   "cell_type": "markdown",
   "metadata": {},
   "source": [
    "## Abstract\n",
    "A common workflow used in applied machine learning is illustrated through the use of a Binary Classification problem. The focus of this project is to predict the binary class label 0 or 1 of `y` based on a set of 50 features. \n",
    "\n",
    "## Introduction\n",
    "Any predictive modeling machine learning project can be broken down into seven common tasks:\n",
    "- Define the problem\n",
    "- Do exploratory data analysis\n",
    "- Prepare the Data\n",
    "- Evaluate Algorithms\n",
    "- Improve Results\n",
    "- Deploy the model\n",
    "- Present Results\n",
    "\n",
    "Each of these tasks can be further sub-divided based on the problem and the dataset.\n",
    "\n",
    "|- **Define the problem**\n",
    "\n",
    "|- **Do exploratory data analysis**\n",
    "\n",
    "    |- Load the libraries and data\n",
    "    |- Provide Descriptive statistics\n",
    "    |- Check for missing data and outliers\n",
    "    |- Visualize missingness \n",
    "    \n",
    "|- **Prepare the data**\n",
    "\n",
    "    |- Replace missing data\n",
    "    |- One-hot encode categorical variables\n",
    "    |- Remove highly correlated variables\n",
    "\n",
    "|- **Evaluate Algorithms**\n",
    "\n",
    "    |- Choose the metric\n",
    "    |- Compare linear and non-linear models\n",
    "    |- Try Ensemble Methods:\n",
    "        |- Bagging (Bootstrap aggregation) methods:\n",
    "            |- Ensemble of different weak learners - (VotingClassifer)\n",
    "            |- BaggingClassifier with DecisionTree base learner\n",
    "            |- BaggingClassifier with KNeighbors base learner\n",
    "            |- RandomForestClassifer with hyperparameter tuning\n",
    "            |- Extract best features from RandomForestClassifier\n",
    "        |- Boosting methods:\n",
    "            |- Adaptive Boosting with AdaBoostClassifier\n",
    "            |- Adaptive Boosting with tuned DecisionTree base learner\n",
    "            |- Extract best features from Adaptive Boosting\n",
    "        |- Compare and Combine Bagging and Boosting features\n",
    "        \n",
    "|- **Improve Results**\n",
    "\n",
    "    |- Tune RandomForestClassifier with only the best parameters\n",
    "    |- Tune AdaBoostClassifier with only the best parameters\n",
    "    |- Tune GradientBoostingClassifier with only the best parameters\n",
    "    |- Summarize the results\n",
    "    \n",
    "|- **Deploy the model**\n",
    "\n",
    "    |- Persist the best model for future predictions\n",
    "    \n",
    "|- **Present Results and Insights**\n",
    "\n",
    "    |- What did we learn from this analysis ? "
   ]
  },
  {
   "cell_type": "markdown",
   "metadata": {},
   "source": [
    "## Define the problem\n",
    "The goal is build a model which can predict the class label of the variable `y`. Each observation contains 50 features, most of which are numeric data except for a few categorical features. The data contains `160000` observations with labeled data. As the data is labeled and since it takes one of two values 0 or 1, a supervised machine learning classifier is used."
   ]
  },
  {
   "cell_type": "markdown",
   "metadata": {},
   "source": [
    "## Do exploratory data analysis\n",
    "### Load the libraries and data"
   ]
  },
  {
   "cell_type": "code",
   "execution_count": 4,
   "metadata": {},
   "outputs": [],
   "source": [
    "# Load the libraries\n",
    "import pandas as pd\n",
    "import numpy as np\n",
    "import matplotlib.pyplot as plt\n",
    "import seaborn as sns\n",
    "\n",
    "# visualize missing values\n",
    "import missingno as msno\n",
    "\n",
    "# model_selection\n",
    "from sklearn.model_selection import GridSearchCV\n",
    "from sklearn.model_selection import KFold\n",
    "from sklearn.model_selection import RandomizedSearchCV\n",
    "from sklearn.model_selection import train_test_split\n",
    "\n",
    "# linear classifiers\n",
    "from sklearn.linear_model import LogisticRegression\n",
    "from sklearn.discriminant_analysis import LinearDiscriminantAnalysis\n",
    "\n",
    "# non-linear classifiers\n",
    "from sklearn.tree import DecisionTreeClassifier\n",
    "from sklearn.neighbors import KNeighborsClassifier\n",
    "from sklearn.naive_bayes import GaussianNB\n",
    "\n",
    "# ensemble learners\n",
    "from sklearn.ensemble import GradientBoostingClassifier\n",
    "from sklearn.ensemble import RandomForestClassifier\n",
    "from sklearn.ensemble import AdaBoostClassifier\n",
    "from sklearn.ensemble import VotingClassifier\n",
    "\n",
    "# metrics\n",
    "from sklearn.metrics import classification_report\n",
    "from sklearn.metrics import roc_auc_score\n",
    "\n",
    "# model persistence\n",
    "from pickle import dump\n",
    "from pickle import load\n",
    "\n",
    "# ignore deprecated warnings\n",
    "import warnings\n",
    "warnings.filterwarnings('ignore')"
   ]
  },
  {
   "cell_type": "code",
   "execution_count": 5,
   "metadata": {},
   "outputs": [
    {
     "data": {
      "text/plain": [
       "(160000, 51)"
      ]
     },
     "execution_count": 5,
     "metadata": {},
     "output_type": "execute_result"
    }
   ],
   "source": [
    "# read in the dataset\n",
    "data = pd.read_csv('final_project.csv')\n",
    "data.shape"
   ]
  },
  {
   "cell_type": "markdown",
   "metadata": {},
   "source": [
    "### Descriptive statistics\n",
    "There are `160000` observations with `50` predictor variables represented by `x0-x49` and a response variabe represented by `y`. For providing descriptive statistics, it is often useful to divide the variables based on their type. The `describe()` output for *object* type variable returns a useful summary giving the number of unique values present in that feature. If the number of unique values taken by a feature is large, then it most likely is mis-represented as an object type. For instance, variable `x37` clearly is not of type object, rather it represents a monetory value."
   ]
  },
  {
   "cell_type": "code",
   "execution_count": 3,
   "metadata": {},
   "outputs": [],
   "source": [
    "# divide the variables based on their types\n",
    "objectTypes = data.loc[:, data.dtypes == object]\n",
    "numericTypes = data.loc[:, data.dtypes == float]\n",
    "responseVariable = data.y"
   ]
  },
  {
   "cell_type": "markdown",
   "metadata": {},
   "source": [
    "#### Categorical variables"
   ]
  },
  {
   "cell_type": "code",
   "execution_count": 4,
   "metadata": {},
   "outputs": [
    {
     "data": {
      "text/html": [
       "<div>\n",
       "<style scoped>\n",
       "    .dataframe tbody tr th:only-of-type {\n",
       "        vertical-align: middle;\n",
       "    }\n",
       "\n",
       "    .dataframe tbody tr th {\n",
       "        vertical-align: top;\n",
       "    }\n",
       "\n",
       "    .dataframe thead th {\n",
       "        text-align: right;\n",
       "    }\n",
       "</style>\n",
       "<table border=\"1\" class=\"dataframe\">\n",
       "  <thead>\n",
       "    <tr style=\"text-align: right;\">\n",
       "      <th></th>\n",
       "      <th>count</th>\n",
       "      <th>unique</th>\n",
       "      <th>top</th>\n",
       "      <th>freq</th>\n",
       "    </tr>\n",
       "  </thead>\n",
       "  <tbody>\n",
       "    <tr>\n",
       "      <th>x24</th>\n",
       "      <td>159972</td>\n",
       "      <td>3</td>\n",
       "      <td>asia</td>\n",
       "      <td>138965</td>\n",
       "    </tr>\n",
       "    <tr>\n",
       "      <th>x29</th>\n",
       "      <td>159970</td>\n",
       "      <td>12</td>\n",
       "      <td>July</td>\n",
       "      <td>45569</td>\n",
       "    </tr>\n",
       "    <tr>\n",
       "      <th>x30</th>\n",
       "      <td>159970</td>\n",
       "      <td>5</td>\n",
       "      <td>wednesday</td>\n",
       "      <td>101535</td>\n",
       "    </tr>\n",
       "    <tr>\n",
       "      <th>x32</th>\n",
       "      <td>159969</td>\n",
       "      <td>12</td>\n",
       "      <td>0.01%</td>\n",
       "      <td>40767</td>\n",
       "    </tr>\n",
       "    <tr>\n",
       "      <th>x37</th>\n",
       "      <td>159977</td>\n",
       "      <td>129198</td>\n",
       "      <td>$618.22</td>\n",
       "      <td>6</td>\n",
       "    </tr>\n",
       "  </tbody>\n",
       "</table>\n",
       "</div>"
      ],
      "text/plain": [
       "      count  unique        top    freq\n",
       "x24  159972       3       asia  138965\n",
       "x29  159970      12       July   45569\n",
       "x30  159970       5  wednesday  101535\n",
       "x32  159969      12      0.01%   40767\n",
       "x37  159977  129198    $618.22       6"
      ]
     },
     "execution_count": 4,
     "metadata": {},
     "output_type": "execute_result"
    }
   ],
   "source": [
    "# object type value counts\n",
    "objectTypes.describe().T"
   ]
  },
  {
   "cell_type": "markdown",
   "metadata": {},
   "source": [
    "* Based on the number of unique values `x37` variable looks to be a numeric variable which contains a dollar amount. This needs to be converted to float by removing the dollar sign and converting to float.\n",
    "* `x32` variable is a percentage value, which can be converted to a float."
   ]
  },
  {
   "cell_type": "code",
   "execution_count": 6,
   "metadata": {},
   "outputs": [
    {
     "data": {
      "text/plain": [
       "0    1313.96\n",
       "1    1962.78\n",
       "2     430.47\n",
       "3   -2366.29\n",
       "4    -620.66\n",
       "Name: x37, dtype: float64"
      ]
     },
     "execution_count": 6,
     "metadata": {},
     "output_type": "execute_result"
    }
   ],
   "source": [
    "# cleaning x37\n",
    "def removeDollarSign(var):\n",
    "    var = var.str.replace('$', \"\")\n",
    "    return var.astype(\"float\")\n",
    "\n",
    "data['x37'] = removeDollarSign(data['x37'])\n",
    "data.x37.head()"
   ]
  },
  {
   "cell_type": "code",
   "execution_count": 7,
   "metadata": {},
   "outputs": [
    {
     "data": {
      "text/plain": [
       "0    0.00\n",
       "1   -0.02\n",
       "2   -0.01\n",
       "3    0.01\n",
       "4    0.01\n",
       "Name: x32, dtype: float64"
      ]
     },
     "execution_count": 7,
     "metadata": {},
     "output_type": "execute_result"
    }
   ],
   "source": [
    "# cleaning x32\n",
    "def removePercentSign(var):\n",
    "    var = var.str.replace(\"%\", \"\")\n",
    "    return var.astype(\"float\")\n",
    "\n",
    "data['x32'] = removePercentSign(data['x32'])\n",
    "data.x32.head()"
   ]
  },
  {
   "cell_type": "markdown",
   "metadata": {},
   "source": [
    "#### Numeric variables\n",
    "When it comes to numeric values, the output of `describe()` by default provides the min, max and quantile values for each feature. However, it is very useful to summarize the number of `missing values` and `outliers` augmented to the descriptive statistics for each feature. This is accomplished by defining functions which return the number of missing values and number of outliers. An outlier is a data point that is distinctly separate from the rest of the data. One definition of outlier is any data point more than 1.5 interquartile ranges (IQRs) below the first quartile or above the third quartile. \n",
    "In addition to the summary statistics, the following columns are added:\n",
    "- **num_missing**: number of missing values\n",
    "- **outlier** : a True value indicates that this column has outliers in it.\n",
    "- **num_outliers**: number of data points considered as outliers for this column.\n",
    "- **IQR**: Inter Quartile Range."
   ]
  },
  {
   "cell_type": "code",
   "execution_count": 9,
   "metadata": {},
   "outputs": [
    {
     "data": {
      "text/html": [
       "<div>\n",
       "<style scoped>\n",
       "    .dataframe tbody tr th:only-of-type {\n",
       "        vertical-align: middle;\n",
       "    }\n",
       "\n",
       "    .dataframe tbody tr th {\n",
       "        vertical-align: top;\n",
       "    }\n",
       "\n",
       "    .dataframe thead th {\n",
       "        text-align: right;\n",
       "    }\n",
       "</style>\n",
       "<table border=\"1\" class=\"dataframe\">\n",
       "  <thead>\n",
       "    <tr style=\"text-align: right;\">\n",
       "      <th></th>\n",
       "      <th>count</th>\n",
       "      <th>num_missing</th>\n",
       "      <th>outliers</th>\n",
       "      <th>num_outliers</th>\n",
       "      <th>mean</th>\n",
       "      <th>min</th>\n",
       "      <th>max</th>\n",
       "      <th>std</th>\n",
       "    </tr>\n",
       "  </thead>\n",
       "  <tbody>\n",
       "    <tr>\n",
       "      <th>x23</th>\n",
       "      <td>159953.0</td>\n",
       "      <td>47</td>\n",
       "      <td>True</td>\n",
       "      <td>1012</td>\n",
       "      <td>0.72203</td>\n",
       "      <td>-66.64034</td>\n",
       "      <td>58.49050</td>\n",
       "      <td>14.90913</td>\n",
       "    </tr>\n",
       "    <tr>\n",
       "      <th>x10</th>\n",
       "      <td>159957.0</td>\n",
       "      <td>43</td>\n",
       "      <td>True</td>\n",
       "      <td>1103</td>\n",
       "      <td>0.00225</td>\n",
       "      <td>-36.30657</td>\n",
       "      <td>37.94558</td>\n",
       "      <td>7.87143</td>\n",
       "    </tr>\n",
       "    <tr>\n",
       "      <th>x33</th>\n",
       "      <td>159959.0</td>\n",
       "      <td>41</td>\n",
       "      <td>True</td>\n",
       "      <td>1049</td>\n",
       "      <td>-0.00657</td>\n",
       "      <td>-7.45145</td>\n",
       "      <td>7.78712</td>\n",
       "      <td>1.74776</td>\n",
       "    </tr>\n",
       "    <tr>\n",
       "      <th>x34</th>\n",
       "      <td>159959.0</td>\n",
       "      <td>41</td>\n",
       "      <td>True</td>\n",
       "      <td>1120</td>\n",
       "      <td>-0.00043</td>\n",
       "      <td>-36.11661</td>\n",
       "      <td>34.84143</td>\n",
       "      <td>8.01418</td>\n",
       "    </tr>\n",
       "    <tr>\n",
       "      <th>x44</th>\n",
       "      <td>159960.0</td>\n",
       "      <td>40</td>\n",
       "      <td>True</td>\n",
       "      <td>1141</td>\n",
       "      <td>-0.00625</td>\n",
       "      <td>-17.98349</td>\n",
       "      <td>19.06976</td>\n",
       "      <td>4.16460</td>\n",
       "    </tr>\n",
       "    <tr>\n",
       "      <th>x41</th>\n",
       "      <td>159960.0</td>\n",
       "      <td>40</td>\n",
       "      <td>True</td>\n",
       "      <td>1264</td>\n",
       "      <td>6.70108</td>\n",
       "      <td>-82.16722</td>\n",
       "      <td>100.05043</td>\n",
       "      <td>18.68020</td>\n",
       "    </tr>\n",
       "    <tr>\n",
       "      <th>x18</th>\n",
       "      <td>159960.0</td>\n",
       "      <td>40</td>\n",
       "      <td>True</td>\n",
       "      <td>1114</td>\n",
       "      <td>0.01269</td>\n",
       "      <td>-20.19869</td>\n",
       "      <td>19.65299</td>\n",
       "      <td>4.54071</td>\n",
       "    </tr>\n",
       "    <tr>\n",
       "      <th>x31</th>\n",
       "      <td>159961.0</td>\n",
       "      <td>39</td>\n",
       "      <td>True</td>\n",
       "      <td>1113</td>\n",
       "      <td>-0.00595</td>\n",
       "      <td>-12.28936</td>\n",
       "      <td>12.27936</td>\n",
       "      <td>2.76751</td>\n",
       "    </tr>\n",
       "    <tr>\n",
       "      <th>x2</th>\n",
       "      <td>159962.0</td>\n",
       "      <td>38</td>\n",
       "      <td>True</td>\n",
       "      <td>1139</td>\n",
       "      <td>-1.15014</td>\n",
       "      <td>-59.39405</td>\n",
       "      <td>63.54565</td>\n",
       "      <td>13.27348</td>\n",
       "    </tr>\n",
       "    <tr>\n",
       "      <th>x20</th>\n",
       "      <td>159962.0</td>\n",
       "      <td>38</td>\n",
       "      <td>True</td>\n",
       "      <td>946</td>\n",
       "      <td>0.29907</td>\n",
       "      <td>-26.67740</td>\n",
       "      <td>27.81456</td>\n",
       "      <td>5.80620</td>\n",
       "    </tr>\n",
       "    <tr>\n",
       "      <th>x3</th>\n",
       "      <td>159963.0</td>\n",
       "      <td>37</td>\n",
       "      <td>True</td>\n",
       "      <td>1111</td>\n",
       "      <td>-0.02464</td>\n",
       "      <td>-35.47659</td>\n",
       "      <td>38.90603</td>\n",
       "      <td>8.06503</td>\n",
       "    </tr>\n",
       "    <tr>\n",
       "      <th>x5</th>\n",
       "      <td>159963.0</td>\n",
       "      <td>37</td>\n",
       "      <td>True</td>\n",
       "      <td>1078</td>\n",
       "      <td>0.01358</td>\n",
       "      <td>-33.82299</td>\n",
       "      <td>35.55011</td>\n",
       "      <td>7.67008</td>\n",
       "    </tr>\n",
       "    <tr>\n",
       "      <th>x47</th>\n",
       "      <td>159963.0</td>\n",
       "      <td>37</td>\n",
       "      <td>True</td>\n",
       "      <td>1040</td>\n",
       "      <td>0.02862</td>\n",
       "      <td>-21.08633</td>\n",
       "      <td>20.83685</td>\n",
       "      <td>4.78816</td>\n",
       "    </tr>\n",
       "    <tr>\n",
       "      <th>x43</th>\n",
       "      <td>159963.0</td>\n",
       "      <td>37</td>\n",
       "      <td>True</td>\n",
       "      <td>1108</td>\n",
       "      <td>-0.00209</td>\n",
       "      <td>-6.87623</td>\n",
       "      <td>6.68092</td>\n",
       "      <td>1.53495</td>\n",
       "    </tr>\n",
       "    <tr>\n",
       "      <th>x40</th>\n",
       "      <td>159964.0</td>\n",
       "      <td>36</td>\n",
       "      <td>True</td>\n",
       "      <td>1265</td>\n",
       "      <td>-2.31653</td>\n",
       "      <td>-74.05920</td>\n",
       "      <td>88.82448</td>\n",
       "      <td>17.04355</td>\n",
       "    </tr>\n",
       "    <tr>\n",
       "      <th>x12</th>\n",
       "      <td>159964.0</td>\n",
       "      <td>36</td>\n",
       "      <td>True</td>\n",
       "      <td>1447</td>\n",
       "      <td>-1.33440</td>\n",
       "      <td>-64.19797</td>\n",
       "      <td>73.27935</td>\n",
       "      <td>14.75099</td>\n",
       "    </tr>\n",
       "    <tr>\n",
       "      <th>x26</th>\n",
       "      <td>159964.0</td>\n",
       "      <td>36</td>\n",
       "      <td>True</td>\n",
       "      <td>1142</td>\n",
       "      <td>-0.00107</td>\n",
       "      <td>-3.85748</td>\n",
       "      <td>3.95165</td>\n",
       "      <td>0.84326</td>\n",
       "    </tr>\n",
       "    <tr>\n",
       "      <th>x15</th>\n",
       "      <td>159965.0</td>\n",
       "      <td>35</td>\n",
       "      <td>True</td>\n",
       "      <td>1110</td>\n",
       "      <td>0.00121</td>\n",
       "      <td>-17.00236</td>\n",
       "      <td>13.78256</td>\n",
       "      <td>3.27178</td>\n",
       "    </tr>\n",
       "    <tr>\n",
       "      <th>x19</th>\n",
       "      <td>159965.0</td>\n",
       "      <td>35</td>\n",
       "      <td>True</td>\n",
       "      <td>1075</td>\n",
       "      <td>0.02456</td>\n",
       "      <td>-35.63340</td>\n",
       "      <td>33.51555</td>\n",
       "      <td>7.59532</td>\n",
       "    </tr>\n",
       "    <tr>\n",
       "      <th>x28</th>\n",
       "      <td>159965.0</td>\n",
       "      <td>35</td>\n",
       "      <td>True</td>\n",
       "      <td>1017</td>\n",
       "      <td>0.03154</td>\n",
       "      <td>-72.89671</td>\n",
       "      <td>67.75384</td>\n",
       "      <td>14.43953</td>\n",
       "    </tr>\n",
       "    <tr>\n",
       "      <th>x14</th>\n",
       "      <td>159966.0</td>\n",
       "      <td>34</td>\n",
       "      <td>True</td>\n",
       "      <td>1131</td>\n",
       "      <td>0.00810</td>\n",
       "      <td>-30.90521</td>\n",
       "      <td>32.54634</td>\n",
       "      <td>6.96410</td>\n",
       "    </tr>\n",
       "    <tr>\n",
       "      <th>x48</th>\n",
       "      <td>159968.0</td>\n",
       "      <td>32</td>\n",
       "      <td>True</td>\n",
       "      <td>957</td>\n",
       "      <td>-0.00022</td>\n",
       "      <td>-8.49016</td>\n",
       "      <td>8.22655</td>\n",
       "      <td>1.93550</td>\n",
       "    </tr>\n",
       "    <tr>\n",
       "      <th>x49</th>\n",
       "      <td>159968.0</td>\n",
       "      <td>32</td>\n",
       "      <td>True</td>\n",
       "      <td>883</td>\n",
       "      <td>-0.67422</td>\n",
       "      <td>-65.79119</td>\n",
       "      <td>66.87760</td>\n",
       "      <td>15.03674</td>\n",
       "    </tr>\n",
       "    <tr>\n",
       "      <th>x38</th>\n",
       "      <td>159969.0</td>\n",
       "      <td>31</td>\n",
       "      <td>True</td>\n",
       "      <td>1265</td>\n",
       "      <td>6.05913</td>\n",
       "      <td>-74.29756</td>\n",
       "      <td>90.46798</td>\n",
       "      <td>16.89160</td>\n",
       "    </tr>\n",
       "    <tr>\n",
       "      <th>x32</th>\n",
       "      <td>159969.0</td>\n",
       "      <td>31</td>\n",
       "      <td>True</td>\n",
       "      <td>7</td>\n",
       "      <td>-0.00001</td>\n",
       "      <td>-0.05000</td>\n",
       "      <td>0.05000</td>\n",
       "      <td>0.01040</td>\n",
       "    </tr>\n",
       "    <tr>\n",
       "      <th>x13</th>\n",
       "      <td>159969.0</td>\n",
       "      <td>31</td>\n",
       "      <td>True</td>\n",
       "      <td>1133</td>\n",
       "      <td>0.00767</td>\n",
       "      <td>-38.72351</td>\n",
       "      <td>42.39218</td>\n",
       "      <td>8.95384</td>\n",
       "    </tr>\n",
       "    <tr>\n",
       "      <th>x46</th>\n",
       "      <td>159969.0</td>\n",
       "      <td>31</td>\n",
       "      <td>True</td>\n",
       "      <td>1890</td>\n",
       "      <td>-12.75540</td>\n",
       "      <td>-201.82683</td>\n",
       "      <td>150.85942</td>\n",
       "      <td>36.60864</td>\n",
       "    </tr>\n",
       "    <tr>\n",
       "      <th>x27</th>\n",
       "      <td>159970.0</td>\n",
       "      <td>30</td>\n",
       "      <td>True</td>\n",
       "      <td>870</td>\n",
       "      <td>-0.00416</td>\n",
       "      <td>-32.00356</td>\n",
       "      <td>28.64507</td>\n",
       "      <td>6.77405</td>\n",
       "    </tr>\n",
       "    <tr>\n",
       "      <th>x35</th>\n",
       "      <td>159970.0</td>\n",
       "      <td>30</td>\n",
       "      <td>True</td>\n",
       "      <td>1131</td>\n",
       "      <td>0.00094</td>\n",
       "      <td>-10.00815</td>\n",
       "      <td>9.89243</td>\n",
       "      <td>2.37956</td>\n",
       "    </tr>\n",
       "    <tr>\n",
       "      <th>x11</th>\n",
       "      <td>159970.0</td>\n",
       "      <td>30</td>\n",
       "      <td>True</td>\n",
       "      <td>1122</td>\n",
       "      <td>0.03023</td>\n",
       "      <td>-38.09287</td>\n",
       "      <td>36.36044</td>\n",
       "      <td>8.76963</td>\n",
       "    </tr>\n",
       "    <tr>\n",
       "      <th>x9</th>\n",
       "      <td>159970.0</td>\n",
       "      <td>30</td>\n",
       "      <td>True</td>\n",
       "      <td>1087</td>\n",
       "      <td>0.00546</td>\n",
       "      <td>-27.98066</td>\n",
       "      <td>27.37784</td>\n",
       "      <td>6.35504</td>\n",
       "    </tr>\n",
       "    <tr>\n",
       "      <th>x21</th>\n",
       "      <td>159971.0</td>\n",
       "      <td>29</td>\n",
       "      <td>True</td>\n",
       "      <td>1119</td>\n",
       "      <td>-0.02914</td>\n",
       "      <td>-43.50185</td>\n",
       "      <td>46.23750</td>\n",
       "      <td>9.40964</td>\n",
       "    </tr>\n",
       "    <tr>\n",
       "      <th>x45</th>\n",
       "      <td>159971.0</td>\n",
       "      <td>29</td>\n",
       "      <td>True</td>\n",
       "      <td>1091</td>\n",
       "      <td>0.00088</td>\n",
       "      <td>-1.75322</td>\n",
       "      <td>1.66920</td>\n",
       "      <td>0.39662</td>\n",
       "    </tr>\n",
       "    <tr>\n",
       "      <th>x7</th>\n",
       "      <td>159973.0</td>\n",
       "      <td>27</td>\n",
       "      <td>True</td>\n",
       "      <td>2195</td>\n",
       "      <td>-7.69279</td>\n",
       "      <td>-181.50698</td>\n",
       "      <td>149.15063</td>\n",
       "      <td>30.54226</td>\n",
       "    </tr>\n",
       "    <tr>\n",
       "      <th>x22</th>\n",
       "      <td>159973.0</td>\n",
       "      <td>27</td>\n",
       "      <td>True</td>\n",
       "      <td>1128</td>\n",
       "      <td>0.00840</td>\n",
       "      <td>-23.64419</td>\n",
       "      <td>24.86301</td>\n",
       "      <td>5.41201</td>\n",
       "    </tr>\n",
       "    <tr>\n",
       "      <th>x17</th>\n",
       "      <td>159973.0</td>\n",
       "      <td>27</td>\n",
       "      <td>True</td>\n",
       "      <td>1177</td>\n",
       "      <td>0.01204</td>\n",
       "      <td>-34.39590</td>\n",
       "      <td>37.05705</td>\n",
       "      <td>7.56935</td>\n",
       "    </tr>\n",
       "    <tr>\n",
       "      <th>x36</th>\n",
       "      <td>159973.0</td>\n",
       "      <td>27</td>\n",
       "      <td>True</td>\n",
       "      <td>1150</td>\n",
       "      <td>0.00645</td>\n",
       "      <td>-6.86602</td>\n",
       "      <td>6.99954</td>\n",
       "      <td>1.59318</td>\n",
       "    </tr>\n",
       "    <tr>\n",
       "      <th>x4</th>\n",
       "      <td>159974.0</td>\n",
       "      <td>26</td>\n",
       "      <td>True</td>\n",
       "      <td>1085</td>\n",
       "      <td>-0.00055</td>\n",
       "      <td>-28.46754</td>\n",
       "      <td>26.24781</td>\n",
       "      <td>6.38229</td>\n",
       "    </tr>\n",
       "    <tr>\n",
       "      <th>x6</th>\n",
       "      <td>159974.0</td>\n",
       "      <td>26</td>\n",
       "      <td>True</td>\n",
       "      <td>1139</td>\n",
       "      <td>-1.67067</td>\n",
       "      <td>-86.35448</td>\n",
       "      <td>92.39060</td>\n",
       "      <td>19.29866</td>\n",
       "    </tr>\n",
       "    <tr>\n",
       "      <th>x0</th>\n",
       "      <td>159974.0</td>\n",
       "      <td>26</td>\n",
       "      <td>True</td>\n",
       "      <td>1109</td>\n",
       "      <td>-0.00103</td>\n",
       "      <td>-1.59263</td>\n",
       "      <td>1.60085</td>\n",
       "      <td>0.37114</td>\n",
       "    </tr>\n",
       "    <tr>\n",
       "      <th>x42</th>\n",
       "      <td>159974.0</td>\n",
       "      <td>26</td>\n",
       "      <td>True</td>\n",
       "      <td>2021</td>\n",
       "      <td>-1.83382</td>\n",
       "      <td>-27.93375</td>\n",
       "      <td>22.66804</td>\n",
       "      <td>5.11071</td>\n",
       "    </tr>\n",
       "    <tr>\n",
       "      <th>x16</th>\n",
       "      <td>159974.0</td>\n",
       "      <td>26</td>\n",
       "      <td>True</td>\n",
       "      <td>1149</td>\n",
       "      <td>0.00622</td>\n",
       "      <td>-26.04298</td>\n",
       "      <td>21.96112</td>\n",
       "      <td>4.98407</td>\n",
       "    </tr>\n",
       "    <tr>\n",
       "      <th>x1</th>\n",
       "      <td>159975.0</td>\n",
       "      <td>25</td>\n",
       "      <td>True</td>\n",
       "      <td>1115</td>\n",
       "      <td>0.00136</td>\n",
       "      <td>-26.27830</td>\n",
       "      <td>27.98818</td>\n",
       "      <td>6.34063</td>\n",
       "    </tr>\n",
       "    <tr>\n",
       "      <th>x39</th>\n",
       "      <td>159977.0</td>\n",
       "      <td>23</td>\n",
       "      <td>True</td>\n",
       "      <td>1083</td>\n",
       "      <td>0.00425</td>\n",
       "      <td>-22.10165</td>\n",
       "      <td>21.54559</td>\n",
       "      <td>5.13432</td>\n",
       "    </tr>\n",
       "    <tr>\n",
       "      <th>x37</th>\n",
       "      <td>159977.0</td>\n",
       "      <td>23</td>\n",
       "      <td>True</td>\n",
       "      <td>1349</td>\n",
       "      <td>0.37763</td>\n",
       "      <td>-4734.54000</td>\n",
       "      <td>5546.99000</td>\n",
       "      <td>999.94533</td>\n",
       "    </tr>\n",
       "    <tr>\n",
       "      <th>x25</th>\n",
       "      <td>159978.0</td>\n",
       "      <td>22</td>\n",
       "      <td>True</td>\n",
       "      <td>1142</td>\n",
       "      <td>-0.00081</td>\n",
       "      <td>-6.36465</td>\n",
       "      <td>5.31417</td>\n",
       "      <td>1.26366</td>\n",
       "    </tr>\n",
       "    <tr>\n",
       "      <th>x8</th>\n",
       "      <td>159979.0</td>\n",
       "      <td>21</td>\n",
       "      <td>True</td>\n",
       "      <td>1081</td>\n",
       "      <td>-0.03054</td>\n",
       "      <td>-37.69105</td>\n",
       "      <td>39.04983</td>\n",
       "      <td>8.90119</td>\n",
       "    </tr>\n",
       "  </tbody>\n",
       "</table>\n",
       "</div>"
      ],
      "text/plain": [
       "        count  num_missing  outliers  num_outliers      mean         min  \\\n",
       "x23  159953.0           47      True          1012   0.72203   -66.64034   \n",
       "x10  159957.0           43      True          1103   0.00225   -36.30657   \n",
       "x33  159959.0           41      True          1049  -0.00657    -7.45145   \n",
       "x34  159959.0           41      True          1120  -0.00043   -36.11661   \n",
       "x44  159960.0           40      True          1141  -0.00625   -17.98349   \n",
       "x41  159960.0           40      True          1264   6.70108   -82.16722   \n",
       "x18  159960.0           40      True          1114   0.01269   -20.19869   \n",
       "x31  159961.0           39      True          1113  -0.00595   -12.28936   \n",
       "x2   159962.0           38      True          1139  -1.15014   -59.39405   \n",
       "x20  159962.0           38      True           946   0.29907   -26.67740   \n",
       "x3   159963.0           37      True          1111  -0.02464   -35.47659   \n",
       "x5   159963.0           37      True          1078   0.01358   -33.82299   \n",
       "x47  159963.0           37      True          1040   0.02862   -21.08633   \n",
       "x43  159963.0           37      True          1108  -0.00209    -6.87623   \n",
       "x40  159964.0           36      True          1265  -2.31653   -74.05920   \n",
       "x12  159964.0           36      True          1447  -1.33440   -64.19797   \n",
       "x26  159964.0           36      True          1142  -0.00107    -3.85748   \n",
       "x15  159965.0           35      True          1110   0.00121   -17.00236   \n",
       "x19  159965.0           35      True          1075   0.02456   -35.63340   \n",
       "x28  159965.0           35      True          1017   0.03154   -72.89671   \n",
       "x14  159966.0           34      True          1131   0.00810   -30.90521   \n",
       "x48  159968.0           32      True           957  -0.00022    -8.49016   \n",
       "x49  159968.0           32      True           883  -0.67422   -65.79119   \n",
       "x38  159969.0           31      True          1265   6.05913   -74.29756   \n",
       "x32  159969.0           31      True             7  -0.00001    -0.05000   \n",
       "x13  159969.0           31      True          1133   0.00767   -38.72351   \n",
       "x46  159969.0           31      True          1890 -12.75540  -201.82683   \n",
       "x27  159970.0           30      True           870  -0.00416   -32.00356   \n",
       "x35  159970.0           30      True          1131   0.00094   -10.00815   \n",
       "x11  159970.0           30      True          1122   0.03023   -38.09287   \n",
       "x9   159970.0           30      True          1087   0.00546   -27.98066   \n",
       "x21  159971.0           29      True          1119  -0.02914   -43.50185   \n",
       "x45  159971.0           29      True          1091   0.00088    -1.75322   \n",
       "x7   159973.0           27      True          2195  -7.69279  -181.50698   \n",
       "x22  159973.0           27      True          1128   0.00840   -23.64419   \n",
       "x17  159973.0           27      True          1177   0.01204   -34.39590   \n",
       "x36  159973.0           27      True          1150   0.00645    -6.86602   \n",
       "x4   159974.0           26      True          1085  -0.00055   -28.46754   \n",
       "x6   159974.0           26      True          1139  -1.67067   -86.35448   \n",
       "x0   159974.0           26      True          1109  -0.00103    -1.59263   \n",
       "x42  159974.0           26      True          2021  -1.83382   -27.93375   \n",
       "x16  159974.0           26      True          1149   0.00622   -26.04298   \n",
       "x1   159975.0           25      True          1115   0.00136   -26.27830   \n",
       "x39  159977.0           23      True          1083   0.00425   -22.10165   \n",
       "x37  159977.0           23      True          1349   0.37763 -4734.54000   \n",
       "x25  159978.0           22      True          1142  -0.00081    -6.36465   \n",
       "x8   159979.0           21      True          1081  -0.03054   -37.69105   \n",
       "\n",
       "            max        std  \n",
       "x23    58.49050   14.90913  \n",
       "x10    37.94558    7.87143  \n",
       "x33     7.78712    1.74776  \n",
       "x34    34.84143    8.01418  \n",
       "x44    19.06976    4.16460  \n",
       "x41   100.05043   18.68020  \n",
       "x18    19.65299    4.54071  \n",
       "x31    12.27936    2.76751  \n",
       "x2     63.54565   13.27348  \n",
       "x20    27.81456    5.80620  \n",
       "x3     38.90603    8.06503  \n",
       "x5     35.55011    7.67008  \n",
       "x47    20.83685    4.78816  \n",
       "x43     6.68092    1.53495  \n",
       "x40    88.82448   17.04355  \n",
       "x12    73.27935   14.75099  \n",
       "x26     3.95165    0.84326  \n",
       "x15    13.78256    3.27178  \n",
       "x19    33.51555    7.59532  \n",
       "x28    67.75384   14.43953  \n",
       "x14    32.54634    6.96410  \n",
       "x48     8.22655    1.93550  \n",
       "x49    66.87760   15.03674  \n",
       "x38    90.46798   16.89160  \n",
       "x32     0.05000    0.01040  \n",
       "x13    42.39218    8.95384  \n",
       "x46   150.85942   36.60864  \n",
       "x27    28.64507    6.77405  \n",
       "x35     9.89243    2.37956  \n",
       "x11    36.36044    8.76963  \n",
       "x9     27.37784    6.35504  \n",
       "x21    46.23750    9.40964  \n",
       "x45     1.66920    0.39662  \n",
       "x7    149.15063   30.54226  \n",
       "x22    24.86301    5.41201  \n",
       "x17    37.05705    7.56935  \n",
       "x36     6.99954    1.59318  \n",
       "x4     26.24781    6.38229  \n",
       "x6     92.39060   19.29866  \n",
       "x0      1.60085    0.37114  \n",
       "x42    22.66804    5.11071  \n",
       "x16    21.96112    4.98407  \n",
       "x1     27.98818    6.34063  \n",
       "x39    21.54559    5.13432  \n",
       "x37  5546.99000  999.94533  \n",
       "x25     5.31417    1.26366  \n",
       "x8     39.04983    8.90119  "
      ]
     },
     "execution_count": 9,
     "metadata": {},
     "output_type": "execute_result"
    }
   ],
   "source": [
    "# get the float columns\n",
    "numericTypes = data.loc[:, data.dtypes == float]\n",
    "numericDescribe = (numericTypes.describe(include='all').T).round(decimals=5)\n",
    "\n",
    "# Calculate outliers using this formula: first quartile – 1.5·IQR > outlier > third quartile + 1.5·IQR\n",
    "numericDescribe['IQR'] = numericDescribe['75%'] - numericDescribe['25%']\n",
    "numericDescribe['outliers'] = (numericDescribe['max'] > (numericDescribe['75%'] + (1.5 * numericDescribe['IQR']))) \\\n",
    "                            | (numericDescribe['min'] < (numericDescribe['25%'] - (1.5 * numericDescribe['IQR'])))\n",
    "\n",
    "# Calculate IQR for each column of the dataframe.\n",
    "IQR = numericTypes.quantile(.75) - numericTypes.quantile(.25)\n",
    "\n",
    "# Calculate the upper and lower outlier values\n",
    "upperOutlier = numericTypes.quantile(.75) + (1.5 * (IQR))\n",
    "lowerOutlier = numericTypes.quantile(.25) - (1.5 * (IQR))\n",
    "\n",
    "# Check if each value of mySeries lies within the outlier range.\n",
    "# If the value is greater than upperOutlier mark it True\n",
    "# If the value is lower than lowerOutlier mark it True\n",
    "# return the total number of outliers for that series.\n",
    "def numberOfOutliers(mySeries):\n",
    "    return sum((mySeries > upperOutlier.loc[mySeries.name, ]) |\\\n",
    "               (mySeries < lowerOutlier.loc[mySeries.name,]))\n",
    "\n",
    "def numberOfMissing(mySeries):\n",
    "    return sum(mySeries.isnull())\n",
    "\n",
    "# append to the describe output\n",
    "numericDescribe['num_outliers'] = numericTypes.apply(numberOfOutliers)\n",
    "numericDescribe['num_missing'] = numericTypes.apply(numberOfMissing)\n",
    "\n",
    "# re-order and filter columns\n",
    "numericDescribe.sort_values('num_missing', ascending=False, inplace=True)\n",
    "newColOrder = ['count', 'num_missing', 'outliers', 'num_outliers', 'mean',\\\n",
    "               'min', 'max', 'std']\n",
    "numericDescribe.reindex(columns=newColOrder)"
   ]
  },
  {
   "cell_type": "markdown",
   "metadata": {},
   "source": [
    "A visual inspection of these variables is provided below. Most of the variables are normally distributed except for variable `x32` which is actually a percentage that appears to be having only a fixed number of values. \n",
    "\n",
    "While most of the machine learning algorithms are non-parametric in nature, i.e, these algorithms do not assume any underlying distribution of the data, it is still a good practice to check the distribution of variables when possible. Outliers, particularly, tend to have greater impact in distance based algorithms like knn and support vector machines. When using linear models and models that rely on distance metric, it is advisable to scale the data. For this particular case, I chose not to scale the data as I am mostly using non-linear models like DecisionTree's which do not really care about whether the data is scaled or not."
   ]
  },
  {
   "cell_type": "code",
   "execution_count": 22,
   "metadata": {},
   "outputs": [
    {
     "data": {
      "text/plain": [
       "(([], <a list of 0 Text xticklabel objects>),\n",
       " ([], <a list of 0 Text yticklabel objects>))"
      ]
     },
     "execution_count": 22,
     "metadata": {},
     "output_type": "execute_result"
    },
    {
     "data": {
      "image/png": "[encoded data removed]",
      "text/plain": [
       "<Figure size 1152x576 with 49 Axes>"
      ]
     },
     "metadata": {},
     "output_type": "display_data"
    }
   ],
   "source": [
    "%matplotlib inline\n",
    "ax = numericTypes.plot(kind='density', figsize=(16,8), subplots=True, layout=(7,7), sharex=False)\n",
    "plt.xticks([]),plt.yticks([])"
   ]
  },
  {
   "cell_type": "markdown",
   "metadata": {},
   "source": [
    "### Visualize missingness\n",
    "One other use of checking the distributions of each variable, is that, one can know how to deal with missing values. If the values are heavily skewed (right/left), then choosing a median imputation is a good idea. On the other hand, if the values are normally distributed as above, one can choose mean/median to impute the missing values. In this case, median imputation was chosen. \n",
    "\n",
    "Understanding the missingness pattern in the data is something that should not be overlooked. The pattern of missingness should guide the imputation method. Based on the figure below, it is clear that there is no obvious pattern in the missingness. The missingness appears to be random. "
   ]
  },
  {
   "cell_type": "code",
   "execution_count": 8,
   "metadata": {},
   "outputs": [
    {
     "data": {
      "text/plain": [
       "<matplotlib.axes._subplots.AxesSubplot at 0x11d6b6da0>"
      ]
     },
     "execution_count": 8,
     "metadata": {},
     "output_type": "execute_result"
    },
    {
     "data": {
      "image/png": "[encoded data removed]",
      "text/plain": [
       "<Figure size 1800x720 with 2 Axes>"
      ]
     },
     "metadata": {},
     "output_type": "display_data"
    }
   ],
   "source": [
    "temp = numericTypes.isnull().sum()\n",
    "temp = temp[temp > 0]\n",
    "numericTypesMissing = numericTypes[temp.index]\n",
    "msno.matrix(numericTypesMissing)"
   ]
  },
  {
   "cell_type": "markdown",
   "metadata": {},
   "source": [
    "## Prepare the Data"
   ]
  },
  {
   "cell_type": "markdown",
   "metadata": {},
   "source": [
    "### Replacing numeric missing values with median"
   ]
  },
  {
   "cell_type": "code",
   "execution_count": 9,
   "metadata": {},
   "outputs": [],
   "source": [
    "def replaceNumMissingData(df):\n",
    "    temp_df = df.copy() \n",
    "    columnnames = df.columns\n",
    "        \n",
    "    print(\"##############################\")\n",
    "    print(\"## NA count Before Cleaning ##\")\n",
    "    print(\"##############################\")\n",
    "    print(df.isnull().sum())\n",
    "    \n",
    "    #replacing missing continous values with median\n",
    "    for i in range(0,len(columnnames)):\n",
    "        try:\n",
    "            temp_array =df[df[columnnames[i]]!=np.nan][columnnames[i]] \n",
    "            # replace NAs with median for continous variables created from above arrays\n",
    "            temp_df[columnnames[i]] =temp_df[columnnames[i]].replace(np.nan,temp_array.median())     \n",
    "        except Exception as e:\n",
    "            print(e.args) \n",
    "            \n",
    "    print(\"##############################\")\n",
    "    print(\"## NA Count After Cleaning  ##\")\n",
    "    print(\"##############################\")\n",
    "    print(temp_df.isnull().sum())\n",
    "    df = temp_df\n",
    "    return df\n"
   ]
  },
  {
   "cell_type": "code",
   "execution_count": 10,
   "metadata": {},
   "outputs": [
    {
     "name": "stdout",
     "output_type": "stream",
     "text": [
      "##############################\n",
      "## NA count Before Cleaning ##\n",
      "##############################\n",
      "x0     26\n",
      "x1     25\n",
      "x2     38\n",
      "x3     37\n",
      "x4     26\n",
      "x5     37\n",
      "x6     26\n",
      "x7     27\n",
      "x8     21\n",
      "x9     30\n",
      "x10    43\n",
      "x11    30\n",
      "x12    36\n",
      "x13    31\n",
      "x14    34\n",
      "x15    35\n",
      "x16    26\n",
      "x17    27\n",
      "x18    40\n",
      "x19    35\n",
      "x20    38\n",
      "x21    29\n",
      "x22    27\n",
      "x23    47\n",
      "x25    22\n",
      "x26    36\n",
      "x27    30\n",
      "x28    35\n",
      "x31    39\n",
      "x32    31\n",
      "x33    41\n",
      "x34    41\n",
      "x35    30\n",
      "x36    27\n",
      "x37    23\n",
      "x38    31\n",
      "x39    23\n",
      "x40    36\n",
      "x41    40\n",
      "x42    26\n",
      "x43    37\n",
      "x44    40\n",
      "x45    29\n",
      "x46    31\n",
      "x47    37\n",
      "x48    32\n",
      "x49    32\n",
      "dtype: int64\n",
      "##############################\n",
      "## NA Count After Cleaning  ##\n",
      "##############################\n",
      "x0     0\n",
      "x1     0\n",
      "x2     0\n",
      "x3     0\n",
      "x4     0\n",
      "x5     0\n",
      "x6     0\n",
      "x7     0\n",
      "x8     0\n",
      "x9     0\n",
      "x10    0\n",
      "x11    0\n",
      "x12    0\n",
      "x13    0\n",
      "x14    0\n",
      "x15    0\n",
      "x16    0\n",
      "x17    0\n",
      "x18    0\n",
      "x19    0\n",
      "x20    0\n",
      "x21    0\n",
      "x22    0\n",
      "x23    0\n",
      "x25    0\n",
      "x26    0\n",
      "x27    0\n",
      "x28    0\n",
      "x31    0\n",
      "x32    0\n",
      "x33    0\n",
      "x34    0\n",
      "x35    0\n",
      "x36    0\n",
      "x37    0\n",
      "x38    0\n",
      "x39    0\n",
      "x40    0\n",
      "x41    0\n",
      "x42    0\n",
      "x43    0\n",
      "x44    0\n",
      "x45    0\n",
      "x46    0\n",
      "x47    0\n",
      "x48    0\n",
      "x49    0\n",
      "dtype: int64\n",
      "<class 'pandas.core.frame.DataFrame'>\n",
      "RangeIndex: 160000 entries, 0 to 159999\n",
      "Data columns (total 47 columns):\n",
      "x0     160000 non-null float64\n",
      "x1     160000 non-null float64\n",
      "x2     160000 non-null float64\n",
      "x3     160000 non-null float64\n",
      "x4     160000 non-null float64\n",
      "x5     160000 non-null float64\n",
      "x6     160000 non-null float64\n",
      "x7     160000 non-null float64\n",
      "x8     160000 non-null float64\n",
      "x9     160000 non-null float64\n",
      "x10    160000 non-null float64\n",
      "x11    160000 non-null float64\n",
      "x12    160000 non-null float64\n",
      "x13    160000 non-null float64\n",
      "x14    160000 non-null float64\n",
      "x15    160000 non-null float64\n",
      "x16    160000 non-null float64\n",
      "x17    160000 non-null float64\n",
      "x18    160000 non-null float64\n",
      "x19    160000 non-null float64\n",
      "x20    160000 non-null float64\n",
      "x21    160000 non-null float64\n",
      "x22    160000 non-null float64\n",
      "x23    160000 non-null float64\n",
      "x25    160000 non-null float64\n",
      "x26    160000 non-null float64\n",
      "x27    160000 non-null float64\n",
      "x28    160000 non-null float64\n",
      "x31    160000 non-null float64\n",
      "x32    160000 non-null float64\n",
      "x33    160000 non-null float64\n",
      "x34    160000 non-null float64\n",
      "x35    160000 non-null float64\n",
      "x36    160000 non-null float64\n",
      "x37    160000 non-null float64\n",
      "x38    160000 non-null float64\n",
      "x39    160000 non-null float64\n",
      "x40    160000 non-null float64\n",
      "x41    160000 non-null float64\n",
      "x42    160000 non-null float64\n",
      "x43    160000 non-null float64\n",
      "x44    160000 non-null float64\n",
      "x45    160000 non-null float64\n",
      "x46    160000 non-null float64\n",
      "x47    160000 non-null float64\n",
      "x48    160000 non-null float64\n",
      "x49    160000 non-null float64\n",
      "dtypes: float64(47)\n",
      "memory usage: 57.4 MB\n"
     ]
    }
   ],
   "source": [
    "dataWithoutMissing = replaceNumMissingData(numericTypes)\n",
    "dataWithoutMissing.info()"
   ]
  },
  {
   "cell_type": "markdown",
   "metadata": {},
   "source": [
    "### Replace categorical missing values with mode"
   ]
  },
  {
   "cell_type": "code",
   "execution_count": 11,
   "metadata": {},
   "outputs": [],
   "source": [
    "def replaceCatMissingData(df):\n",
    "    temp_df = df.copy() \n",
    "    columnnames = df.columns\n",
    "        \n",
    "    print(\"##############################\")\n",
    "    print(\"## NA count Before Cleaning ##\")\n",
    "    print(\"##############################\")\n",
    "    print(df.isnull().sum())\n",
    "    \n",
    "    for i in range(0,len(columnnames)):\n",
    "        try:\n",
    "            temp_array = df[df[columnnames[i]]!=np.nan][columnnames[i]] \n",
    "            temp_df[columnnames[i]] =temp_df[columnnames[i]].replace(np.nan,str(temp_array.mode()[0]))      \n",
    "        except Exception as e:\n",
    "            print(e.args)\n",
    "            \n",
    "    print(\"##############################\")\n",
    "    print(\"## NA Count After Cleaning  ##\")\n",
    "    print(\"##############################\")\n",
    "    print(temp_df.isnull().sum())\n",
    "    df = temp_df\n",
    "    return df"
   ]
  },
  {
   "cell_type": "code",
   "execution_count": 12,
   "metadata": {},
   "outputs": [
    {
     "name": "stdout",
     "output_type": "stream",
     "text": [
      "##############################\n",
      "## NA count Before Cleaning ##\n",
      "##############################\n",
      "x24    28\n",
      "x29    30\n",
      "x30    30\n",
      "dtype: int64\n",
      "##############################\n",
      "## NA Count After Cleaning  ##\n",
      "##############################\n",
      "x24    0\n",
      "x29    0\n",
      "x30    0\n",
      "dtype: int64\n",
      "<class 'pandas.core.frame.DataFrame'>\n",
      "RangeIndex: 160000 entries, 0 to 159999\n",
      "Data columns (total 3 columns):\n",
      "x24    160000 non-null object\n",
      "x29    160000 non-null object\n",
      "x30    160000 non-null object\n",
      "dtypes: object(3)\n",
      "memory usage: 3.7+ MB\n"
     ]
    }
   ],
   "source": [
    "del objectTypes['x32']\n",
    "del objectTypes['x37']\n",
    "dataWithoutMissingCat = replaceCatMissingData(objectTypes)\n",
    "dataWithoutMissingCat.info()"
   ]
  },
  {
   "cell_type": "markdown",
   "metadata": {},
   "source": [
    "Concatenate `dataWithoutMissing`, `dataWithoutMissingCat` and `responseVariable` to create a clean dataset."
   ]
  },
  {
   "cell_type": "code",
   "execution_count": 13,
   "metadata": {},
   "outputs": [
    {
     "name": "stdout",
     "output_type": "stream",
     "text": [
      "<class 'pandas.core.frame.DataFrame'>\n",
      "RangeIndex: 160000 entries, 0 to 159999\n",
      "Data columns (total 51 columns):\n",
      "x0     160000 non-null float64\n",
      "x1     160000 non-null float64\n",
      "x2     160000 non-null float64\n",
      "x3     160000 non-null float64\n",
      "x4     160000 non-null float64\n",
      "x5     160000 non-null float64\n",
      "x6     160000 non-null float64\n",
      "x7     160000 non-null float64\n",
      "x8     160000 non-null float64\n",
      "x9     160000 non-null float64\n",
      "x10    160000 non-null float64\n",
      "x11    160000 non-null float64\n",
      "x12    160000 non-null float64\n",
      "x13    160000 non-null float64\n",
      "x14    160000 non-null float64\n",
      "x15    160000 non-null float64\n",
      "x16    160000 non-null float64\n",
      "x17    160000 non-null float64\n",
      "x18    160000 non-null float64\n",
      "x19    160000 non-null float64\n",
      "x20    160000 non-null float64\n",
      "x21    160000 non-null float64\n",
      "x22    160000 non-null float64\n",
      "x23    160000 non-null float64\n",
      "x25    160000 non-null float64\n",
      "x26    160000 non-null float64\n",
      "x27    160000 non-null float64\n",
      "x28    160000 non-null float64\n",
      "x31    160000 non-null float64\n",
      "x32    160000 non-null float64\n",
      "x33    160000 non-null float64\n",
      "x34    160000 non-null float64\n",
      "x35    160000 non-null float64\n",
      "x36    160000 non-null float64\n",
      "x37    160000 non-null float64\n",
      "x38    160000 non-null float64\n",
      "x39    160000 non-null float64\n",
      "x40    160000 non-null float64\n",
      "x41    160000 non-null float64\n",
      "x42    160000 non-null float64\n",
      "x43    160000 non-null float64\n",
      "x44    160000 non-null float64\n",
      "x45    160000 non-null float64\n",
      "x46    160000 non-null float64\n",
      "x47    160000 non-null float64\n",
      "x48    160000 non-null float64\n",
      "x49    160000 non-null float64\n",
      "x24    160000 non-null object\n",
      "x29    160000 non-null object\n",
      "x30    160000 non-null object\n",
      "y      160000 non-null int64\n",
      "dtypes: float64(47), int64(1), object(3)\n",
      "memory usage: 62.3+ MB\n"
     ]
    }
   ],
   "source": [
    "cleanData = pd.concat([dataWithoutMissing, dataWithoutMissingCat, responseVariable], axis=1)\n",
    "cleanData.info()"
   ]
  },
  {
   "cell_type": "markdown",
   "metadata": {},
   "source": [
    "### One hot encoding the categorical variables"
   ]
  },
  {
   "cell_type": "code",
   "execution_count": 14,
   "metadata": {},
   "outputs": [],
   "source": [
    "df = cleanData.copy()"
   ]
  },
  {
   "cell_type": "code",
   "execution_count": 15,
   "metadata": {},
   "outputs": [
    {
     "name": "stdout",
     "output_type": "stream",
     "text": [
      "<class 'pandas.core.frame.DataFrame'>\n",
      "RangeIndex: 160000 entries, 0 to 159999\n",
      "Data columns (total 20 columns):\n",
      "x24_america      160000 non-null uint8\n",
      "x24_asia         160000 non-null uint8\n",
      "x24_euorpe       160000 non-null uint8\n",
      "x29_Apr          160000 non-null uint8\n",
      "x29_Aug          160000 non-null uint8\n",
      "x29_Dev          160000 non-null uint8\n",
      "x29_Feb          160000 non-null uint8\n",
      "x29_January      160000 non-null uint8\n",
      "x29_July         160000 non-null uint8\n",
      "x29_Jun          160000 non-null uint8\n",
      "x29_Mar          160000 non-null uint8\n",
      "x29_May          160000 non-null uint8\n",
      "x29_Nov          160000 non-null uint8\n",
      "x29_Oct          160000 non-null uint8\n",
      "x29_sept.        160000 non-null uint8\n",
      "x30_friday       160000 non-null uint8\n",
      "x30_monday       160000 non-null uint8\n",
      "x30_thurday      160000 non-null uint8\n",
      "x30_tuesday      160000 non-null uint8\n",
      "x30_wednesday    160000 non-null uint8\n",
      "dtypes: uint8(20)\n",
      "memory usage: 3.1 MB\n"
     ]
    }
   ],
   "source": [
    "dummyCols = pd.get_dummies(df.loc[:, df.dtypes == 'object'])\n",
    "dummyCols.info()"
   ]
  },
  {
   "cell_type": "code",
   "execution_count": 16,
   "metadata": {},
   "outputs": [],
   "source": [
    "df = pd.concat([df, dummyCols], axis=1)"
   ]
  },
  {
   "cell_type": "code",
   "execution_count": 17,
   "metadata": {},
   "outputs": [
    {
     "name": "stdout",
     "output_type": "stream",
     "text": [
      "<class 'pandas.core.frame.DataFrame'>\n",
      "RangeIndex: 160000 entries, 0 to 159999\n",
      "Data columns (total 68 columns):\n",
      "x0               160000 non-null float64\n",
      "x1               160000 non-null float64\n",
      "x2               160000 non-null float64\n",
      "x3               160000 non-null float64\n",
      "x4               160000 non-null float64\n",
      "x5               160000 non-null float64\n",
      "x6               160000 non-null float64\n",
      "x7               160000 non-null float64\n",
      "x8               160000 non-null float64\n",
      "x9               160000 non-null float64\n",
      "x10              160000 non-null float64\n",
      "x11              160000 non-null float64\n",
      "x12              160000 non-null float64\n",
      "x13              160000 non-null float64\n",
      "x14              160000 non-null float64\n",
      "x15              160000 non-null float64\n",
      "x16              160000 non-null float64\n",
      "x17              160000 non-null float64\n",
      "x18              160000 non-null float64\n",
      "x19              160000 non-null float64\n",
      "x20              160000 non-null float64\n",
      "x21              160000 non-null float64\n",
      "x22              160000 non-null float64\n",
      "x23              160000 non-null float64\n",
      "x25              160000 non-null float64\n",
      "x26              160000 non-null float64\n",
      "x27              160000 non-null float64\n",
      "x28              160000 non-null float64\n",
      "x31              160000 non-null float64\n",
      "x32              160000 non-null float64\n",
      "x33              160000 non-null float64\n",
      "x34              160000 non-null float64\n",
      "x35              160000 non-null float64\n",
      "x36              160000 non-null float64\n",
      "x37              160000 non-null float64\n",
      "x38              160000 non-null float64\n",
      "x39              160000 non-null float64\n",
      "x40              160000 non-null float64\n",
      "x41              160000 non-null float64\n",
      "x42              160000 non-null float64\n",
      "x43              160000 non-null float64\n",
      "x44              160000 non-null float64\n",
      "x45              160000 non-null float64\n",
      "x46              160000 non-null float64\n",
      "x47              160000 non-null float64\n",
      "x48              160000 non-null float64\n",
      "x49              160000 non-null float64\n",
      "y                160000 non-null int64\n",
      "x24_america      160000 non-null uint8\n",
      "x24_asia         160000 non-null uint8\n",
      "x24_euorpe       160000 non-null uint8\n",
      "x29_Apr          160000 non-null uint8\n",
      "x29_Aug          160000 non-null uint8\n",
      "x29_Dev          160000 non-null uint8\n",
      "x29_Feb          160000 non-null uint8\n",
      "x29_January      160000 non-null uint8\n",
      "x29_July         160000 non-null uint8\n",
      "x29_Jun          160000 non-null uint8\n",
      "x29_Mar          160000 non-null uint8\n",
      "x29_May          160000 non-null uint8\n",
      "x29_Nov          160000 non-null uint8\n",
      "x29_Oct          160000 non-null uint8\n",
      "x29_sept.        160000 non-null uint8\n",
      "x30_friday       160000 non-null uint8\n",
      "x30_monday       160000 non-null uint8\n",
      "x30_thurday      160000 non-null uint8\n",
      "x30_tuesday      160000 non-null uint8\n",
      "x30_wednesday    160000 non-null uint8\n",
      "dtypes: float64(47), int64(1), uint8(20)\n",
      "memory usage: 61.6 MB\n"
     ]
    }
   ],
   "source": [
    "df.drop(['x24', 'x29', 'x30'], axis=1, inplace=True)\n",
    "df.info()"
   ]
  },
  {
   "cell_type": "markdown",
   "metadata": {},
   "source": [
    "### Remove highly correlated variables"
   ]
  },
  {
   "cell_type": "code",
   "execution_count": 18,
   "metadata": {},
   "outputs": [
    {
     "data": {
      "text/plain": [
       "<matplotlib.axes._subplots.AxesSubplot at 0x11d51fb00>"
      ]
     },
     "execution_count": 18,
     "metadata": {},
     "output_type": "execute_result"
    },
    {
     "data": {
      "image/png": "[encoded data removed]",
      "text/plain": [
       "<Figure size 792x648 with 2 Axes>"
      ]
     },
     "metadata": {},
     "output_type": "display_data"
    }
   ],
   "source": [
    "\n",
    "sns.set(style=\"white\")\n",
    "\n",
    "# Compute the correlation matrix\n",
    "corr = df.corr()\n",
    "\n",
    "# Generate a mask for the upper triangle\n",
    "mask = np.zeros_like(corr, dtype=np.bool)\n",
    "mask[np.triu_indices_from(mask)] = True\n",
    "\n",
    "# Set up the matplotlib figure\n",
    "f, ax = plt.subplots(figsize=(11, 9))\n",
    "\n",
    "# Generate a custom diverging colormap\n",
    "cmap = sns.diverging_palette(220, 10, as_cmap=True)\n",
    "\n",
    "# Draw the heatmap with the mask and correct aspect ratio\n",
    "sns.heatmap(corr, mask=mask, cmap=cmap, vmin = -1, vmax=1, center=0,\n",
    "            square=True, linewidths=.5, cbar_kws={\"shrink\": .5})"
   ]
  },
  {
   "cell_type": "markdown",
   "metadata": {},
   "source": [
    "There does not seem to be much correlation going on, so we can move on."
   ]
  },
  {
   "cell_type": "markdown",
   "metadata": {},
   "source": [
    "## Evaluate Algorithms"
   ]
  },
  {
   "cell_type": "markdown",
   "metadata": {},
   "source": [
    "### Choose a metric"
   ]
  },
  {
   "cell_type": "markdown",
   "metadata": {},
   "source": [
    "The first step in evaluating the algorithms is to choose a metric. For an imbalanced binary classification problem the most commonly used metric of evaluation is the `roc_auc_score` - which represents the Area under the curve value. Area under the curve (AUC) is a single-number-summary of the performance of a classifier. AUC is the percentage of the ROC plot that is underneath the curve. It turns out that AUC can also be interpreted as follows, if we randomly choose 1 positive observation and 1 negative observation from our testing set, AUC represents the likelihood that our classifier would assign a higher predicted probability to the positive observation. It makes sense that this is useful goal, because ultimately, we want the classifier to rank positive observations higher than negative observations in terms of predicted probability. This the reason why, we will be extracting the predicted probability from the second column of the `predict_proba` output. For instance, `mdl.predict_proba(y_test)[:,1]`, where `y_test` is the true label of the test set and `mdl` is the classifier model we are predicting on."
   ]
  },
  {
   "cell_type": "code",
   "execution_count": 4,
   "metadata": {},
   "outputs": [
    {
     "name": "stdout",
     "output_type": "stream",
     "text": [
      "X shape before \n",
      "(160000, 68)\n",
      "X shape after \n",
      "(160000, 67)\n",
      "Y shape after \n",
      "(160000,)\n"
     ]
    }
   ],
   "source": [
    "#df.to_csv('df.csv')\n",
    "#df = pd.read_csv('df.csv')\n",
    "#df = df.iloc[:, 1:]\n",
    "\n",
    "#Create data = x\n",
    "Cls_X = df.copy()\n",
    "#create target = Y\n",
    "Cls_y = Cls_X.y\n",
    "print('X shape before ')\n",
    "print(Cls_X.shape)\n",
    "#drop the response column from the x dataset\n",
    "Cls_X.pop('y') \n",
    "\n",
    "print('X shape after ')\n",
    "print(Cls_X.shape)\n",
    "print('Y shape after ')\n",
    "print(Cls_y.shape)"
   ]
  },
  {
   "cell_type": "markdown",
   "metadata": {},
   "source": [
    "#### Class Distribution and Null Accuracy\n",
    "There is 60:40 ratio of observations with class labels 0 and 1 respectively and naturally a null accuracy of 60%. That is, a model which randomly predicts 0 for every observations is still 60% accurate. This is typically as a benchmark to see how well our model predictions are when compared with null model."
   ]
  },
  {
   "cell_type": "code",
   "execution_count": 5,
   "metadata": {},
   "outputs": [
    {
     "name": "stdout",
     "output_type": "stream",
     "text": [
      "Class distibution\n",
      "0    95803\n",
      "1    64197\n",
      "Name: y, dtype: int64\n",
      "Percentage of 0s:  0.5988\n",
      "Percentage of 1s:  0.4012\n",
      "\n",
      "##############################\n",
      "NULL Accuracy:  0.5988\n",
      "##############################\n"
     ]
    }
   ],
   "source": [
    "# Explore distribuion of our class\n",
    "print(\"Class distibution\")\n",
    "print(Cls_y.value_counts())\n",
    "\n",
    "# calculate the percentage of zeros\n",
    "print('Percentage of 0s: ',round(1 - Cls_y.mean(),4))\n",
    "\n",
    "# calculate the percentage of ones\n",
    "print('Percentage of 1s: ', round(Cls_y.mean(),4))\n",
    "\n",
    "# calculate null accuracy \n",
    "print('')\n",
    "print('##############################')\n",
    "print('NULL Accuracy: ', max(round(Cls_y.mean(),4), round(1 - Cls_y.mean(),4)))\n",
    "print('##############################')"
   ]
  },
  {
   "cell_type": "markdown",
   "metadata": {},
   "source": [
    "### Compare linear and non-linear models\n",
    "The goal here is to train many models and see which ones are learning the pattern in the data. The `models` variable is a list of tuples, with name and the classifier object. Initially, defaults are used to get an idea of which models are able to learn the pattern in the data. 10-fold crossvalidation is used on the entire dataset and for each fold the roc_auc_score is calculated on the test indicies. The `kfold.split()` method returns a generator which can be used to retrieve the fold's training and test indices. Within each loop the model is fit on the training indices and evaluated on the test indicies. The results of each fold are stored in `cvscores` list. At the end of the loop, the cvscores are stored inside a `results` dictionary. The results dictionary is then converted to a dataframe and the mean scores are computed."
   ]
  },
  {
   "cell_type": "code",
   "execution_count": 47,
   "metadata": {},
   "outputs": [],
   "source": [
    "Cls = df.copy()\n",
    "target_data=Cls.y\n",
    "Cls.pop('y')\n",
    "train_data=Cls"
   ]
  },
  {
   "cell_type": "code",
   "execution_count": 49,
   "metadata": {},
   "outputs": [],
   "source": [
    "# prepare models\n",
    "models = []\n",
    "\n",
    "# linear\n",
    "models.append(('LR', LogisticRegression()))\n",
    "models.append(('LDA', LinearDiscriminantAnalysis()))\n",
    "# non-linear\n",
    "models.append(('KNN', KNeighborsClassifier()))\n",
    "models.append(('CART', DecisionTreeClassifier()))\n",
    "models.append(('NB', GaussianNB()))"
   ]
  },
  {
   "cell_type": "code",
   "execution_count": 51,
   "metadata": {},
   "outputs": [
    {
     "name": "stdout",
     "output_type": "stream",
     "text": [
      "Training model :LR\n",
      "Fold ROC score is 0.755776\n",
      "Fold ROC score is 0.754715\n",
      "Fold ROC score is 0.758968\n",
      "Fold ROC score is 0.760445\n",
      "Fold ROC score is 0.761291\n",
      "Fold ROC score is 0.758513\n",
      "Fold ROC score is 0.763135\n",
      "Fold ROC score is 0.759802\n",
      "Fold ROC score is 0.759879\n",
      "Fold ROC score is 0.759665\n",
      "Training model :LDA\n",
      "Fold ROC score is 0.755638\n",
      "Fold ROC score is 0.754448\n",
      "Fold ROC score is 0.758941\n",
      "Fold ROC score is 0.760134\n",
      "Fold ROC score is 0.761071\n",
      "Fold ROC score is 0.758328\n",
      "Fold ROC score is 0.763140\n",
      "Fold ROC score is 0.759336\n",
      "Fold ROC score is 0.759578\n",
      "Fold ROC score is 0.759365\n",
      "Training model :KNN\n",
      "Fold ROC score is 0.896217\n",
      "Fold ROC score is 0.897008\n",
      "Fold ROC score is 0.897484\n",
      "Fold ROC score is 0.896951\n",
      "Fold ROC score is 0.893606\n",
      "Fold ROC score is 0.894688\n",
      "Fold ROC score is 0.895257\n",
      "Fold ROC score is 0.892476\n",
      "Fold ROC score is 0.895564\n",
      "Fold ROC score is 0.893309\n",
      "Training model :CART\n",
      "Fold ROC score is 0.842974\n",
      "Fold ROC score is 0.841589\n",
      "Fold ROC score is 0.844041\n",
      "Fold ROC score is 0.847429\n",
      "Fold ROC score is 0.846501\n",
      "Fold ROC score is 0.845466\n",
      "Fold ROC score is 0.843749\n",
      "Fold ROC score is 0.843105\n",
      "Fold ROC score is 0.845250\n",
      "Fold ROC score is 0.840554\n",
      "Training model :NB\n",
      "Fold ROC score is 0.746454\n",
      "Fold ROC score is 0.740179\n",
      "Fold ROC score is 0.748718\n",
      "Fold ROC score is 0.745380\n",
      "Fold ROC score is 0.751330\n",
      "Fold ROC score is 0.746224\n",
      "Fold ROC score is 0.749450\n",
      "Fold ROC score is 0.747154\n",
      "Fold ROC score is 0.752555\n",
      "Fold ROC score is 0.749893\n"
     ]
    }
   ],
   "source": [
    "# evaluate each model in turn\n",
    "results = {}\n",
    "oofs = {}\n",
    "scoring = 'roc_auc'\n",
    "for name, model in models:\n",
    "    print(\"Training model :\" + name)\n",
    "    kfold = KFold(n_splits=10, random_state=7)\n",
    "    oofs[name] = np.zeros(Cls.shape[0])\n",
    "    cvscores = []\n",
    "    for train_idx, test_idx in kfold.split(Cls):\n",
    "        model.fit(train_data.loc[train_idx], target_data.loc[train_idx])\n",
    "        oofs[name][test_idx] = model.predict_proba(train_data.loc[test_idx])[:,1]\n",
    "        print(\"Fold ROC score is %f\" % roc_auc_score(target_data[test_idx],oofs[name][test_idx]))\n",
    "        cvscores.append(roc_auc_score(target_data[test_idx],oofs[name][test_idx]))\n",
    "    results[name] = cvscores "
   ]
  },
  {
   "cell_type": "code",
   "execution_count": 64,
   "metadata": {},
   "outputs": [
    {
     "name": "stdout",
     "output_type": "stream",
     "text": [
      "LR      0.759219\n",
      "LDA     0.758998\n",
      "KNN     0.895256\n",
      "CART    0.844066\n",
      "NB      0.747734\n",
      "dtype: float64\n"
     ]
    }
   ],
   "source": [
    "resultsDF = pd.DataFrame(results)\n",
    "print(resultsDF.mean())"
   ]
  },
  {
   "cell_type": "markdown",
   "metadata": {},
   "source": [
    "KNN and CART are performing far better than the rest of the classifiers. In the next section, Logistic Regression, KNN and CART are combined into one meta-algorithm called VotingClassifier to yeild slightly better results."
   ]
  },
  {
   "cell_type": "markdown",
   "metadata": {},
   "source": [
    "### Ensemble methods"
   ]
  },
  {
   "cell_type": "markdown",
   "metadata": {},
   "source": [
    "#### Boostrap Aggregation methods:"
   ]
  },
  {
   "cell_type": "markdown",
   "metadata": {},
   "source": [
    "##### Ensemble of different weak learners\n",
    "##### Voting Classifier:\n",
    "The idea behind the `VotingClassifier` is to combine conceptually different machine learning classifiers and use a majority vote or the average predicted probabilities (soft vote) to predict the class labels. Such a classifier can be useful for a set of equally well performing model in order to balance out their individual weaknesses. Use an ensemble of Logistic Regression, KNN and CART.\n",
    "\n",
    "Three models are initialized and a list of tuples is constructed. In each iteration, individual models are fit on the `Xtrain` split and validated on the `X_test` split."
   ]
  },
  {
   "cell_type": "code",
   "execution_count": 7,
   "metadata": {},
   "outputs": [
    {
     "name": "stdout",
     "output_type": "stream",
     "text": [
      "(112000, 67)\n",
      "(112000,)\n",
      "(48000, 67)\n",
      "(48000,)\n"
     ]
    }
   ],
   "source": [
    "# select a seed to use for repeatability\n",
    "seed = 100\n",
    "\n",
    "#Split data to  into train and holding set.\n",
    "X_train,X_test,y_train,y_test = train_test_split(Cls_X, Cls_y, test_size = 0.3, random_state = seed)\n",
    "\n",
    "print(X_train.shape)\n",
    "print(y_train.shape)\n",
    "print(X_test.shape)\n",
    "print(y_test.shape)"
   ]
  },
  {
   "cell_type": "code",
   "execution_count": 71,
   "metadata": {},
   "outputs": [
    {
     "name": "stdout",
     "output_type": "stream",
     "text": [
      "Logistic Regression : 0.761\n",
      "K Nearest Neighbors : 0.892\n",
      "Classification Tree : 0.838\n"
     ]
    }
   ],
   "source": [
    "vlr = LogisticRegression(random_state=7)\n",
    "vknn = KNeighborsClassifier()\n",
    "vdt = DecisionTreeClassifier(random_state=7)\n",
    "vClassifiers = [('Logistic Regression', vlr), ('K Nearest Neighbors', vknn), ('Classification Tree', vdt)]\n",
    "\n",
    "# Iterate over the pre-defined list of classifiers\n",
    "for vclf_name, vclf in vClassifiers:    \n",
    " \n",
    "    # Fit clf to the training set\n",
    "    vclf.fit(X_train, y_train)    \n",
    "   \n",
    "    # Predict y_pred and get proba\n",
    "    y_pred = vclf.predict(X_test)\n",
    "    y_pred_proba = vclf.predict_proba(X_test)[:,1]\n",
    "    \n",
    "    # Calculate roc_auc_score\n",
    "    v_roc_auc_score = roc_auc_score(y_test, y_pred_proba) \n",
    "   \n",
    "    # Evaluate clf's roc_auc_score on the test set\n",
    "    print('{:s} : {:.3f}'.format(vclf_name, v_roc_auc_score))"
   ]
  },
  {
   "cell_type": "markdown",
   "metadata": {},
   "source": [
    "Next, a VotingClassifier in instantiated with the list of estimators. Voting is set to `soft` since probabilities are used. By combining the above three models, the VotingClassifier's roc_auc_score has improved to **0.929**"
   ]
  },
  {
   "cell_type": "code",
   "execution_count": 74,
   "metadata": {},
   "outputs": [
    {
     "name": "stdout",
     "output_type": "stream",
     "text": [
      "Voting Classifier: 0.929\n"
     ]
    }
   ],
   "source": [
    "# Instantiate a VotingClassifier vc\n",
    "vc = VotingClassifier(estimators=vClassifiers, voting='soft')     \n",
    "\n",
    "# Fit vc to the training set\n",
    "vc.fit(X_train, y_train)   \n",
    "\n",
    "# Evaluate the test set predictions\n",
    "y_pred = vc.predict(X_test)\n",
    "y_pred_proba = vc.predict_proba(X_test)[:,1]\n",
    "\n",
    "# Calculate roc_auc_score\n",
    "vc_roc_auc_score = roc_auc_score(y_test, y_pred_proba) \n",
    "print('Voting Classifier: {:.3f}'.format(vc_roc_auc_score))"
   ]
  },
  {
   "cell_type": "markdown",
   "metadata": {},
   "source": [
    "##### BaggingClassifier with DecisionTree base learner"
   ]
  },
  {
   "cell_type": "markdown",
   "metadata": {},
   "source": [
    "The VotingClassifier uses the same training dataset with different algorithms and the final predictions are obtained by majority voting. Another type of ensemble learner is a Bootstrap aggregation or in short Bagging. In Bagging, the same algorithm is used on different training data subsets. That is, each model is trained on a different subsets of the data. Overall, bagging has the effect of reducing the variance of individual models in the ensemble.  The base estimator to use can be specified when instantiating the BaggingClassifier object. In this case, the BaggingClassifier did quite well with a roc_auc_score of **0.97**"
   ]
  },
  {
   "cell_type": "code",
   "execution_count": 77,
   "metadata": {},
   "outputs": [
    {
     "name": "stdout",
     "output_type": "stream",
     "text": [
      "Test set roc_auc_score of bc: 0.97\n"
     ]
    }
   ],
   "source": [
    "# Import DecisionTreeClassifier\n",
    "from sklearn.tree import DecisionTreeClassifier\n",
    "\n",
    "# Import BaggingClassifier\n",
    "from sklearn.ensemble import BaggingClassifier\n",
    "\n",
    "# Instantiate dt\n",
    "dt = DecisionTreeClassifier(random_state=7)\n",
    "\n",
    "# Instantiate bc\n",
    "bc = BaggingClassifier(base_estimator=dt, n_estimators=50, random_state=7)\n",
    "\n",
    "# Fit bc to the training set\n",
    "bc.fit(X_train, y_train)\n",
    "\n",
    "# Predict test set labels\n",
    "y_pred = bc.predict(X_test)\n",
    "y_pred_proba = bc.predict_proba(X_test)[:,1]\n",
    "\n",
    "# Evaluate acc_test\n",
    "bc_roc_auc_score = roc_auc_score(y_test, y_pred_proba)\n",
    "print('Test set roc_auc_score of bc: {:.2f}'.format(bc_roc_auc_score)) "
   ]
  },
  {
   "cell_type": "markdown",
   "metadata": {},
   "source": [
    "##### BaggingClassifier with KNeighborsClassifier base learner\n",
    "The base estimator of the BaggingClassifier can be a KNeighbhorsClassifier. Trying this approach yeilded a roc_auc_score of **0.90**"
   ]
  },
  {
   "cell_type": "code",
   "execution_count": 82,
   "metadata": {},
   "outputs": [
    {
     "name": "stdout",
     "output_type": "stream",
     "text": [
      "Test set roc_auc_score of bc with KNN: 0.90\n"
     ]
    }
   ],
   "source": [
    "# Import KNeighborsClassifier\n",
    "from sklearn.neighbors import KNeighborsClassifier\n",
    "\n",
    "# Import BaggingClassifier\n",
    "from sklearn.ensemble import BaggingClassifier\n",
    "\n",
    "# Instantiate knc\n",
    "knc = KNeighborsClassifier()\n",
    "\n",
    "# Instantiate bc\n",
    "bc_kn = BaggingClassifier(base_estimator=knc, n_estimators=10, random_state=1, n_jobs=-1)\n",
    "\n",
    "# Fit bc to the training set\n",
    "bc_kn.fit(X_train, y_train)\n",
    "\n",
    "# Predict test set labels\n",
    "y_pred = bc_kn.predict(X_test)\n",
    "y_pred_proba = bc_kn.predict_proba(X_test)[:,1]\n",
    "\n",
    "# Evaluate acc_test\n",
    "bc_kn_roc_auc_score = roc_auc_score(y_test, y_pred_proba)\n",
    "print('Test set roc_auc_score of bc with KNN: {:.2f}'.format(bc_kn_roc_auc_score)) "
   ]
  },
  {
   "cell_type": "markdown",
   "metadata": {},
   "source": [
    "##### Ensemble of DecisionTrees - RandomForestClassifier\n",
    "With BaggingClassifier, the base estimator can be any model. Each estimator is trained on a distinct bootstrap sample of the training set. Estimators use all features for training and prediction. RandomForest is another type of ensemble learner with DecisionTree as the base estimator. Like in BaggingClassifier, each estimator is trained on a different boostrap sample. But, RF introduces further randomization in the training of individual trees,i.e, when each tree is trained only `d` features are sampled at each node without replacement, where *d < total number of features* . The node is split using the feature that maximizes information gain (IG). By default *d* is the sqrt of the number of features. For example, if there are 100 features, then only 10 features are sampled at each node. Due to this pecularity, it is possible to extract the best features from the model - a thing that is most useful for building robust machine learning models.\n",
    "\n",
    "The RandomForest itself can be tuned. A grid of parameters is passed the the GridSearch object along with the RandomForestClassifier object. Due to the fact that RandonForest inherently make use of DecisionTrees, it is also possible to pass in the parameters to tune individual trees like the IG criterion, max_depth etc."
   ]
  },
  {
   "cell_type": "code",
   "execution_count": 13,
   "metadata": {},
   "outputs": [
    {
     "name": "stdout",
     "output_type": "stream",
     "text": [
      "# Tuning hyper-parameters for roc_auc\n",
      "\n",
      "Best parameters set found on development set:\n",
      "\n",
      "{'n_estimators': 40, 'min_samples_split': 9, 'max_depth': 15, 'criterion': 'entropy'}\n",
      "\n",
      "Grid scores on development set:\n",
      "\n",
      "0.860 (+/-0.005) for {'n_estimators': 40, 'min_samples_split': 2, 'max_depth': 5, 'criterion': 'gini'}\n",
      "0.963 (+/-0.002) for {'n_estimators': 40, 'min_samples_split': 9, 'max_depth': 15, 'criterion': 'gini'}\n",
      "0.964 (+/-0.002) for {'n_estimators': 50, 'min_samples_split': 9, 'max_depth': 15, 'criterion': 'gini'}\n",
      "0.944 (+/-0.004) for {'n_estimators': 100, 'min_samples_split': 4, 'max_depth': 10, 'criterion': 'entropy'}\n",
      "0.951 (+/-0.004) for {'n_estimators': 10, 'min_samples_split': 4, 'max_depth': 15, 'criterion': 'gini'}\n",
      "0.959 (+/-0.002) for {'n_estimators': 20, 'min_samples_split': 9, 'max_depth': 15, 'criterion': 'gini'}\n",
      "0.927 (+/-0.003) for {'n_estimators': 10, 'min_samples_split': 4, 'max_depth': 10, 'criterion': 'entropy'}\n",
      "0.938 (+/-0.003) for {'n_estimators': 30, 'min_samples_split': 9, 'max_depth': 10, 'criterion': 'entropy'}\n",
      "0.964 (+/-0.002) for {'n_estimators': 40, 'min_samples_split': 9, 'max_depth': 15, 'criterion': 'entropy'}\n",
      "0.952 (+/-0.003) for {'n_estimators': 10, 'min_samples_split': 2, 'max_depth': 15, 'criterion': 'entropy'}\n",
      "\n",
      "Detailed classification report:\n",
      "\n",
      "The model is trained on the full development set.\n",
      "The scores are computed on the full evaluation set.\n",
      "\n",
      "             precision    recall  f1-score   support\n",
      "\n",
      "          0       0.90      0.95      0.92     28776\n",
      "          1       0.92      0.84      0.87     19224\n",
      "\n",
      "avg / total       0.90      0.90      0.90     48000\n",
      "\n",
      "\n"
     ]
    }
   ],
   "source": [
    "tuned_parameters={'n_estimators':[10,20,30,40,50,100], 'criterion':['gini','entropy'], 'max_depth':[5,10,15],\n",
    "                 'min_samples_split':[2,4,9]}\n",
    "scores = ['roc_auc']\n",
    "\n",
    "for score in scores:\n",
    "    print(\"# Tuning hyper-parameters for %s\" % score)\n",
    "    print()\n",
    "\n",
    "    clf = RandomizedSearchCV(RandomForestClassifier(), tuned_parameters, cv=5,\n",
    "                       scoring='%s' % score, n_iter=10)\n",
    "    clf.fit(X_train, y_train)\n",
    "\n",
    "    print(\"Best parameters set found on development set:\")\n",
    "    print()\n",
    "    print(clf.best_params_)\n",
    "    print()\n",
    "    print(\"Grid scores on development set:\")\n",
    "    print()\n",
    "    means = clf.cv_results_['mean_test_score']\n",
    "    stds = clf.cv_results_['std_test_score']\n",
    "    for mean, std, params in zip(means, stds, clf.cv_results_['params']):\n",
    "        print(\"%0.3f (+/-%0.03f) for %r\"\n",
    "              % (mean, std * 2, params))\n",
    "    print()\n",
    "\n",
    "    print(\"Detailed classification report:\")\n",
    "    print()\n",
    "    print(\"The model is trained on the full development set.\")\n",
    "    print(\"The scores are computed on the full evaluation set.\")\n",
    "    print()\n",
    "    y_true, y_pred = y_test, clf.predict(X_test)\n",
    "    print(classification_report(y_true, y_pred))\n",
    "    print()"
   ]
  },
  {
   "cell_type": "markdown",
   "metadata": {},
   "source": [
    "The best estimator is then used to make predictions on the test set. The roc_auc_score in this case was observed to be: **0.966**"
   ]
  },
  {
   "cell_type": "code",
   "execution_count": 14,
   "metadata": {},
   "outputs": [
    {
     "data": {
      "text/plain": [
       "RandomForestClassifier(bootstrap=True, class_weight=None, criterion='entropy',\n",
       "            max_depth=15, max_features='auto', max_leaf_nodes=None,\n",
       "            min_impurity_decrease=0.0, min_impurity_split=None,\n",
       "            min_samples_leaf=1, min_samples_split=9,\n",
       "            min_weight_fraction_leaf=0.0, n_estimators=40, n_jobs=1,\n",
       "            oob_score=False, random_state=None, verbose=0,\n",
       "            warm_start=False)"
      ]
     },
     "execution_count": 14,
     "metadata": {},
     "output_type": "execute_result"
    }
   ],
   "source": [
    "clf.best_estimator_"
   ]
  },
  {
   "cell_type": "code",
   "execution_count": 19,
   "metadata": {},
   "outputs": [
    {
     "data": {
      "text/plain": [
       "0.9665118297620746"
      ]
     },
     "execution_count": 19,
     "metadata": {},
     "output_type": "execute_result"
    }
   ],
   "source": [
    "# get the best model and make predictions\n",
    "bestRF_mdl = clf.best_estimator_\n",
    "RF_ypred = bestRF_mdl.predict(X_test)\n",
    "RF_ypred_prob = bestRF_mdl.predict_proba(X_test)[:,1]\n",
    "# calculate the roc_auc_score on X_test\n",
    "roc_auc_score(y_test, RF_ypred_prob)"
   ]
  },
  {
   "cell_type": "markdown",
   "metadata": {},
   "source": [
    "##### Extract important features from RandomForestClassifier\n",
    "The most important features contributing to the model can be extracted using the `feature_importances_` attribute of the best estimator. The top features are plotted and it can be readily observed that only the first 17 attributes are  significantly contributing to the model. In the next section, the model is trained using only these top 17 features to show how using a simpler model, at times, yields even better results than using the full model. This principle is called the `Occum's Razor`. The idea here is that simple models tend to be more robust than complex models."
   ]
  },
  {
   "cell_type": "code",
   "execution_count": 26,
   "metadata": {},
   "outputs": [
    {
     "name": "stdout",
     "output_type": "stream",
     "text": [
      "   feature  importance\n",
      "23     x23    0.085280\n",
      "20     x20    0.070743\n",
      "46     x49    0.067521\n",
      "45     x48    0.062922\n",
      "27     x28    0.057728\n",
      "39     x42    0.057319\n",
      "12     x12    0.053220\n",
      "26     x27    0.052421\n",
      "34     x37    0.046483\n",
      "7       x7    0.045977\n",
      "37     x40    0.045037\n",
      "35     x38    0.039564\n",
      "38     x41    0.037709\n",
      "43     x46    0.036343\n",
      "2       x2    0.034945\n",
      "6       x6    0.031490\n",
      "29     x32    0.031396\n",
      "3       x3    0.004695\n",
      "41     x44    0.004548\n",
      "0       x0    0.004461\n"
     ]
    },
    {
     "data": {
      "text/plain": [
       "Text(0.5,1,'Random Forest Features importance')"
      ]
     },
     "execution_count": 26,
     "metadata": {},
     "output_type": "execute_result"
    },
    {
     "data": {
      "image/png": "[encoded data removed]",
      "text/plain": [
       "<Figure size 1080x432 with 1 Axes>"
      ]
     },
     "metadata": {},
     "output_type": "display_data"
    }
   ],
   "source": [
    "# get the best predictors\n",
    "importances = pd.DataFrame({'feature':X_train.columns, 'importance': bestRF_mdl.feature_importances_}) \n",
    "importances = importances.sort_values('importance',ascending=False)\n",
    " \n",
    "# display top 20\n",
    "topDF1 = importances.head(20)\n",
    "print(topDF1)\n",
    "\n",
    "f, ax = plt.subplots(figsize=(15, 6))\n",
    "\n",
    "g = sns.barplot('feature', y=\"importance\", data=topDF1, color=\"red\", saturation=.9, ci=68)\n",
    "g =plt.xticks(rotation=90)\n",
    "plt.xlabel('Feature')\n",
    "plt.ylabel('importance')\n",
    "plt.title('Random Forest Features importance')"
   ]
  },
  {
   "cell_type": "markdown",
   "metadata": {},
   "source": [
    "#### Boosting methods\n",
    "Boosting refers to an ensemble method in which several models are trained sequentially with each model learning from the errors of its predecessors."
   ]
  },
  {
   "cell_type": "markdown",
   "metadata": {},
   "source": [
    "##### Adaptive boosting - AdaBoostClassifier\n",
    "In Adaptive boosting, each predictor pays more attention to the instances wrongly predicted by its predecessor, by constantly changing the weights of training instances. Furthermore, each predictor is assigned a coefficient alpha, that weighs its contribution in the ensemble's final prediction. \n",
    "\n",
    "Any classifier can be used as a base estimator. At first an un-tuned DecisionTree with 50 estimators is tried. This resulted a roughly same performance as the baseline DecisionTree model with an roc_auc_score of **0.84**"
   ]
  },
  {
   "cell_type": "code",
   "execution_count": 83,
   "metadata": {},
   "outputs": [
    {
     "name": "stdout",
     "output_type": "stream",
     "text": [
      "Test set roc_auc_score of adaboosting: 0.84\n"
     ]
    }
   ],
   "source": [
    "# Import DecisionTreeClassifier\n",
    "from sklearn.tree import DecisionTreeClassifier\n",
    "\n",
    "# Import AdaBoostClassifier\n",
    "from sklearn.ensemble import AdaBoostClassifier\n",
    "\n",
    "# Instantiate dt\n",
    "dt_ada = DecisionTreeClassifier(random_state=7)\n",
    "\n",
    "# Instantiate ada\n",
    "ada = AdaBoostClassifier(base_estimator=dt_ada, n_estimators=50, random_state=7)\n",
    "\n",
    "#Fit ada to the training set\n",
    "ada.fit(X_train, y_train)\n",
    "\n",
    "# Compute the probabilities of obtaining the positive class\n",
    "y_pred_proba = ada.predict_proba(X_test)[:,1]\n",
    "\n",
    "# Evaluate acc_test\n",
    "ada_roc_auc_score = roc_auc_score(y_test, y_pred_proba)\n",
    "print('Test set roc_auc_score of adaboosting: {:.2f}'.format(ada_roc_auc_score)) "
   ]
  },
  {
   "cell_type": "markdown",
   "metadata": {},
   "source": [
    "A tuned DecisionTree perfomed much better than the base line DecisionTree with a roc_auc_score of **0.908**"
   ]
  },
  {
   "cell_type": "markdown",
   "metadata": {},
   "source": [
    "##### Find the best tree"
   ]
  },
  {
   "cell_type": "code",
   "execution_count": 108,
   "metadata": {},
   "outputs": [
    {
     "name": "stdout",
     "output_type": "stream",
     "text": [
      "Test set roc_auc_score of DecisionTree: 0.90866\n"
     ]
    }
   ],
   "source": [
    "# Import DecisionTreeClassifier\n",
    "from sklearn.tree import DecisionTreeClassifier\n",
    "\n",
    "dt_tune = DecisionTreeClassifier(random_state=7)\n",
    "\n",
    "# optimize max_depth; max_features and min_samples_leaf\n",
    "params_dt = {\n",
    "    'max_depth': [5,10,15,20],\n",
    "    'min_samples_leaf': [0.08, 1],\n",
    "    'criterion': ['gini', 'entropy']\n",
    "}\n",
    "\n",
    "# instantiate a RandomSearchCV object\n",
    "grid_dt = RandomizedSearchCV(estimator=dt_tune, param_distributions = params_dt, \n",
    "                             scoring='roc_auc', cv=5, n_jobs=-1, n_iter=10)\n",
    "grid_dt.fit(X_train, y_train)\n",
    "\n",
    "ypred = grid_dt.predict(X_test)\n",
    "ypred_proba = grid_dt.predict_proba(X_test)[:,1]\n",
    "\n",
    "# Evaluate acc_test\n",
    "dt_tune_roc_auc_score = roc_auc_score(y_test, ypred_proba)\n",
    "print('Test set roc_auc_score of DecisionTree: {:.5f}'.format(dt_tune_roc_auc_score))"
   ]
  },
  {
   "cell_type": "code",
   "execution_count": 105,
   "metadata": {},
   "outputs": [
    {
     "data": {
      "text/plain": [
       "{'min_samples_leaf': 1, 'max_depth': 10, 'criterion': 'entropy'}"
      ]
     },
     "execution_count": 105,
     "metadata": {},
     "output_type": "execute_result"
    }
   ],
   "source": [
    "grid_dt.best_params_"
   ]
  },
  {
   "cell_type": "markdown",
   "metadata": {},
   "source": [
    "Use the model with these hyperparameters in the next section where Boosting is done."
   ]
  },
  {
   "cell_type": "markdown",
   "metadata": {},
   "source": [
    "##### Tuning AdaBoostClassifier\n",
    "AdaBoostClassifier itself can be tune further to find the best learning_rate and the optimal number of estimators to use."
   ]
  },
  {
   "cell_type": "code",
   "execution_count": 112,
   "metadata": {},
   "outputs": [
    {
     "name": "stdout",
     "output_type": "stream",
     "text": [
      "# Tuning hyper-parameters for roc_auc\n",
      "\n",
      "Fitting 5 folds for each of 10 candidates, totalling 50 fits\n"
     ]
    },
    {
     "name": "stderr",
     "output_type": "stream",
     "text": [
      "[Parallel(n_jobs=-1)]: Done  42 tasks      | elapsed: 140.6min\n",
      "[Parallel(n_jobs=-1)]: Done  50 out of  50 | elapsed: 144.3min finished\n"
     ]
    },
    {
     "name": "stdout",
     "output_type": "stream",
     "text": [
      "Best parameters set found on development set:\n",
      "\n",
      "{'n_estimators': 100, 'learning_rate': 0.01}\n",
      "\n",
      "Grid scores on development set:\n",
      "\n",
      "0.945 (+/-0.009) for {'n_estimators': 20, 'learning_rate': 0.01}\n",
      "0.962 (+/-0.005) for {'n_estimators': 100, 'learning_rate': 0.1}\n",
      "0.925 (+/-0.006) for {'n_estimators': 100, 'learning_rate': 1}\n",
      "0.965 (+/-0.004) for {'n_estimators': 200, 'learning_rate': 0.1}\n",
      "0.958 (+/-0.002) for {'n_estimators': 20, 'learning_rate': 0.1}\n",
      "0.953 (+/-0.007) for {'n_estimators': 30, 'learning_rate': 0.01}\n",
      "0.932 (+/-0.008) for {'n_estimators': 10, 'learning_rate': 0.01}\n",
      "0.969 (+/-0.003) for {'n_estimators': 100, 'learning_rate': 0.01}\n",
      "0.956 (+/-0.006) for {'n_estimators': 40, 'learning_rate': 0.01}\n",
      "0.910 (+/-0.003) for {'n_estimators': 10, 'learning_rate': 1}\n",
      "\n",
      "Detailed classification report:\n",
      "\n",
      "The model is trained on the full development set.\n",
      "The scores are computed on the full evaluation set.\n",
      "\n",
      "             precision    recall  f1-score   support\n",
      "\n",
      "          0       0.92      0.95      0.94     28776\n",
      "          1       0.92      0.88      0.90     19224\n",
      "\n",
      "avg / total       0.92      0.92      0.92     48000\n",
      "\n",
      "\n"
     ]
    }
   ],
   "source": [
    "tuned_parameters={'n_estimators':[10,20,30,40,50,100,200], 'learning_rate': [0.01, 0.1, 1]}\n",
    "scores = ['roc_auc']\n",
    "\n",
    "for score in scores:\n",
    "    print(\"# Tuning hyper-parameters for %s\" % score)\n",
    "    print()\n",
    "    \n",
    "    # Instantiate dt\n",
    "    dt_ada = DecisionTreeClassifier(min_samples_leaf=1, max_depth=10, \n",
    "                                    criterion='entropy', random_state=7)\n",
    "    \n",
    "    clf_ada = RandomizedSearchCV(AdaBoostClassifier(base_estimator=dt_ada), tuned_parameters, cv=5,\n",
    "                       scoring='%s' % score, n_iter=10, verbose=1, n_jobs=-1)\n",
    "    clf_ada.fit(X_train, y_train)\n",
    "\n",
    "    print(\"Best parameters set found on development set:\")\n",
    "    print()\n",
    "    print(clf_ada.best_params_)\n",
    "    print()\n",
    "    print(\"Grid scores on development set:\")\n",
    "    print()\n",
    "    means = clf_ada.cv_results_['mean_test_score']\n",
    "    stds = clf_ada.cv_results_['std_test_score']\n",
    "    for mean, std, params in zip(means, stds, clf_ada.cv_results_['params']):\n",
    "        print(\"%0.3f (+/-%0.03f) for %r\"\n",
    "              % (mean, std * 2, params))\n",
    "    print()\n",
    "\n",
    "    print(\"Detailed classification report:\")\n",
    "    print()\n",
    "    print(\"The model is trained on the full development set.\")\n",
    "    print(\"The scores are computed on the full evaluation set.\")\n",
    "    print()\n",
    "    y_true, y_pred = y_test, clf_ada.predict(X_test)\n",
    "    print(classification_report(y_true, y_pred))\n",
    "    print()"
   ]
  },
  {
   "cell_type": "markdown",
   "metadata": {},
   "source": [
    "The best estimator was found to be one which uses a learning rate of *0.01* with *100* estimators. Predictions using this estimator resulted in a roc_auc_score of **0.968**"
   ]
  },
  {
   "cell_type": "code",
   "execution_count": 113,
   "metadata": {},
   "outputs": [
    {
     "data": {
      "text/plain": [
       "AdaBoostClassifier(algorithm='SAMME.R',\n",
       "          base_estimator=DecisionTreeClassifier(class_weight=None, criterion='entropy', max_depth=10,\n",
       "            max_features=None, max_leaf_nodes=None,\n",
       "            min_impurity_decrease=0.0, min_impurity_split=None,\n",
       "            min_samples_leaf=1, min_samples_split=2,\n",
       "            min_weight_fraction_leaf=0.0, presort=False, random_state=7,\n",
       "            splitter='best'),\n",
       "          learning_rate=0.01, n_estimators=100, random_state=None)"
      ]
     },
     "execution_count": 113,
     "metadata": {},
     "output_type": "execute_result"
    }
   ],
   "source": [
    "clf_ada.best_estimator_"
   ]
  },
  {
   "cell_type": "code",
   "execution_count": 114,
   "metadata": {},
   "outputs": [
    {
     "data": {
      "text/plain": [
       "0.9686331486097618"
      ]
     },
     "execution_count": 114,
     "metadata": {},
     "output_type": "execute_result"
    }
   ],
   "source": [
    "# get the best model and make predictions\n",
    "ada_best = clf_ada.best_estimator_\n",
    "ada_best_ypred = ada_best.predict(X_test)\n",
    "ada_best_ypred_prob = ada_best.predict_proba(X_test)[:,1]\n",
    "\n",
    "# calculate the roc_auc_score on X_test\n",
    "roc_auc_score(y_test, ada_best_ypred_prob)"
   ]
  },
  {
   "cell_type": "markdown",
   "metadata": {},
   "source": [
    "Since a DecisionTree base estimator was used in the AdaptiveBoosting meta algorithm, it is possible to extract the best features. The best features contributing the model are extracted and plotted.\n",
    "\n",
    "Interestingly, even using AdaBoosting gave 17 best predictors that are contributing the most to the model's performance."
   ]
  },
  {
   "cell_type": "code",
   "execution_count": 115,
   "metadata": {},
   "outputs": [
    {
     "name": "stdout",
     "output_type": "stream",
     "text": [
      "   feature  importance\n",
      "45     x48    0.108718\n",
      "12     x12    0.096015\n",
      "23     x23    0.074627\n",
      "39     x42    0.072313\n",
      "26     x27    0.071410\n",
      "20     x20    0.070695\n",
      "27     x28    0.069197\n",
      "46     x49    0.068749\n",
      "34     x37    0.063748\n",
      "43     x46    0.044468\n",
      "29     x32    0.041231\n",
      "7       x7    0.040534\n",
      "38     x41    0.036494\n",
      "2       x2    0.029015\n",
      "35     x38    0.027606\n",
      "37     x40    0.023242\n",
      "6       x6    0.017873\n",
      "36     x39    0.001677\n",
      "41     x44    0.001653\n",
      "32     x35    0.001636\n"
     ]
    },
    {
     "data": {
      "text/plain": [
       "Text(0.5,1,'AdaBoosting Features importance')"
      ]
     },
     "execution_count": 115,
     "metadata": {},
     "output_type": "execute_result"
    },
    {
     "data": {
      "image/png": "[encoded data removed]",
      "text/plain": [
       "<Figure size 1080x432 with 1 Axes>"
      ]
     },
     "metadata": {},
     "output_type": "display_data"
    }
   ],
   "source": [
    "# get the best predictors\n",
    "#bestRF_mdl.feature_importances_\n",
    "\n",
    "importances = pd.DataFrame({'feature':X_train.columns, 'importance': ada_best.feature_importances_}) \n",
    "importances = importances.sort_values('importance',ascending=False)#.set_index('feature') \n",
    " \n",
    "#only display top 20 importances[:10].plot.bar()\n",
    "topDF1 = importances.head(20)\n",
    "print(topDF1)\n",
    "\n",
    "f, ax = plt.subplots(figsize=(15, 6))\n",
    "\n",
    "g = sns.barplot('feature', y=\"importance\", data=topDF1, color=\"red\", saturation=.9, ci=68)\n",
    "g =plt.xticks(rotation=90)\n",
    "plt.xlabel('Feature')\n",
    "plt.ylabel('importance')\n",
    "plt.title('AdaBoosting Features importance')"
   ]
  },
  {
   "cell_type": "markdown",
   "metadata": {},
   "source": [
    "The top 17 features from AdaBoosting are collected into `Ada_importantFeatures` for later use."
   ]
  },
  {
   "cell_type": "code",
   "execution_count": 117,
   "metadata": {},
   "outputs": [
    {
     "name": "stdout",
     "output_type": "stream",
     "text": [
      "(112000, 17)\n",
      "(112000,)\n",
      "(48000, 17)\n",
      "(48000,)\n"
     ]
    }
   ],
   "source": [
    "Ada_importantFeatures = list(topDF1.iloc[0:17,0])\n",
    "X_train_simple_ada = X_train[Ada_importantFeatures]\n",
    "X_test_simple_ada = X_test[Ada_importantFeatures]\n",
    "print(X_train_simple_ada.shape)\n",
    "print(y_train.shape)\n",
    "print(X_test_simple_ada.shape)\n",
    "print(y_test.shape)"
   ]
  },
  {
   "cell_type": "markdown",
   "metadata": {},
   "source": [
    "### Compare Bagging and Boosting methods"
   ]
  },
  {
   "cell_type": "markdown",
   "metadata": {},
   "source": [
    "#### Compare RandomForestClassifier with AdaBoostClassifier\n",
    "As RandomForestClassifer and AdaBoostClassifier ensemble methods both gave out 17 features to be the most useful in predicting the y label, it is interesting to see if these are the same exact 17 features.\n",
    "\n",
    "The intersection of the features from both Bagging and Boosting ensembles are exactly the same. However, the order of importance varies. "
   ]
  },
  {
   "cell_type": "code",
   "execution_count": 121,
   "metadata": {},
   "outputs": [
    {
     "name": "stdout",
     "output_type": "stream",
     "text": [
      "['x48', 'x12', 'x23', 'x42', 'x27', 'x20', 'x28', 'x49', 'x37', 'x46', 'x32', 'x7', 'x41', 'x2', 'x38', 'x40', 'x6']\n",
      "17\n"
     ]
    }
   ],
   "source": [
    "def intersection(list1, list2):\n",
    "    list3 = [value for value in list1 if value in list2]\n",
    "    return list3\n",
    "\n",
    "print(intersection(Ada_importantFeatures, importantFeatures))\n",
    "print(len(intersection(Ada_importantFeatures, importantFeatures)))"
   ]
  },
  {
   "cell_type": "markdown",
   "metadata": {},
   "source": [
    "## Improve Results\n",
    "In this section, the features extracted from Bagging and Boosting methods are used to tune the RandomForestClassifier and Stochastic Gradient Boosting classifier. The tuned models are then used on the test data to see if there were any improvements to the roc_auc_score."
   ]
  },
  {
   "cell_type": "markdown",
   "metadata": {},
   "source": [
    "### ensemble of decision trees with important features\n",
    "At first the training and test sets are trimmed to use only these top 17 features."
   ]
  },
  {
   "cell_type": "code",
   "execution_count": 27,
   "metadata": {},
   "outputs": [
    {
     "name": "stdout",
     "output_type": "stream",
     "text": [
      "(112000, 67)\n",
      "(112000,)\n",
      "(48000, 67)\n",
      "(48000,)\n"
     ]
    }
   ],
   "source": [
    "print(X_train.shape)\n",
    "print(y_train.shape)\n",
    "print(X_test.shape)\n",
    "print(y_test.shape)"
   ]
  },
  {
   "cell_type": "code",
   "execution_count": 40,
   "metadata": {},
   "outputs": [
    {
     "name": "stdout",
     "output_type": "stream",
     "text": [
      "(112000, 17)\n",
      "(112000,)\n",
      "(48000, 17)\n",
      "(48000,)\n"
     ]
    }
   ],
   "source": [
    "importantFeatures = list(topDF1.iloc[0:17,0])\n",
    "X_train_simple = X_train[importantFeatures]\n",
    "X_test_simple = X_test[importantFeatures]\n",
    "print(X_train_simple.shape)\n",
    "print(y_train.shape)\n",
    "print(X_test_simple.shape)\n",
    "print(y_test.shape)"
   ]
  },
  {
   "cell_type": "code",
   "execution_count": 41,
   "metadata": {},
   "outputs": [
    {
     "name": "stdout",
     "output_type": "stream",
     "text": [
      "# Tuning REDUCED MODEL's hyper-parameters for roc_auc\n",
      "\n",
      "Best parameters set found on development set:\n",
      "\n",
      "{'n_estimators': 50, 'min_samples_split': 2, 'max_depth': 15, 'criterion': 'entropy'}\n",
      "\n",
      "Grid scores on development set:\n",
      "\n",
      "0.968 (+/-0.002) for {'n_estimators': 10, 'min_samples_split': 4, 'max_depth': 15, 'criterion': 'gini'}\n",
      "0.975 (+/-0.001) for {'n_estimators': 40, 'min_samples_split': 2, 'max_depth': 15, 'criterion': 'gini'}\n",
      "0.875 (+/-0.007) for {'n_estimators': 100, 'min_samples_split': 9, 'max_depth': 5, 'criterion': 'gini'}\n",
      "0.873 (+/-0.006) for {'n_estimators': 100, 'min_samples_split': 4, 'max_depth': 5, 'criterion': 'entropy'}\n",
      "0.975 (+/-0.001) for {'n_estimators': 40, 'min_samples_split': 4, 'max_depth': 15, 'criterion': 'gini'}\n",
      "0.973 (+/-0.001) for {'n_estimators': 20, 'min_samples_split': 2, 'max_depth': 15, 'criterion': 'gini'}\n",
      "0.873 (+/-0.003) for {'n_estimators': 50, 'min_samples_split': 4, 'max_depth': 5, 'criterion': 'entropy'}\n",
      "0.977 (+/-0.001) for {'n_estimators': 50, 'min_samples_split': 2, 'max_depth': 15, 'criterion': 'entropy'}\n",
      "0.871 (+/-0.007) for {'n_estimators': 40, 'min_samples_split': 4, 'max_depth': 5, 'criterion': 'entropy'}\n",
      "0.953 (+/-0.002) for {'n_estimators': 20, 'min_samples_split': 9, 'max_depth': 10, 'criterion': 'gini'}\n",
      "\n",
      "Detailed classification report:\n",
      "\n",
      "The model is trained on the full development set.\n",
      "The scores are computed on the full evaluation set.\n",
      "\n",
      "             precision    recall  f1-score   support\n",
      "\n",
      "          0       0.93      0.96      0.94     28776\n",
      "          1       0.93      0.88      0.91     19224\n",
      "\n",
      "avg / total       0.93      0.93      0.93     48000\n",
      "\n",
      "\n"
     ]
    }
   ],
   "source": [
    "tuned_parameters={'n_estimators':[10,20,30,40,50,100], 'criterion':['gini','entropy'], 'max_depth':[5,10,15],\n",
    "                 'min_samples_split':[2,4,9]}\n",
    "scores = ['roc_auc']\n",
    "\n",
    "for score in scores:\n",
    "    print(\"# Tuning REDUCED MODEL's hyper-parameters for %s\" % score)\n",
    "    print()\n",
    "\n",
    "    clf_reduced = RandomizedSearchCV(RandomForestClassifier(), tuned_parameters, cv=5,\n",
    "                       scoring='%s' % score, n_iter=10)\n",
    "    \n",
    "    ## NOTE this time using reduced model\n",
    "    clf_reduced.fit(X_train_simple, y_train)\n",
    "\n",
    "    print(\"Best parameters set found on development set:\")\n",
    "    print()\n",
    "    print(clf_reduced.best_params_)\n",
    "    print()\n",
    "    print(\"Grid scores on development set:\")\n",
    "    print()\n",
    "    means = clf_reduced.cv_results_['mean_test_score']\n",
    "    stds = clf_reduced.cv_results_['std_test_score']\n",
    "    for mean, std, params in zip(means, stds, clf_reduced.cv_results_['params']):\n",
    "        print(\"%0.3f (+/-%0.03f) for %r\"\n",
    "              % (mean, std * 2, params))\n",
    "    print()\n",
    "\n",
    "    print(\"Detailed classification report:\")\n",
    "    print()\n",
    "    print(\"The model is trained on the full development set.\")\n",
    "    print(\"The scores are computed on the full evaluation set.\")\n",
    "    print()\n",
    "    y_true, y_pred = y_test, clf_reduced.predict(X_test_simple)\n",
    "    print(classification_report(y_true, y_pred))\n",
    "    print()"
   ]
  },
  {
   "cell_type": "code",
   "execution_count": 42,
   "metadata": {},
   "outputs": [
    {
     "data": {
      "text/plain": [
       "0.9776587629348727"
      ]
     },
     "execution_count": 42,
     "metadata": {},
     "output_type": "execute_result"
    }
   ],
   "source": [
    "# get the best model and make predictions\n",
    "bestRF_mdl_reduced = clf_reduced.best_estimator_\n",
    "RF_ypred_reduced = bestRF_mdl_reduced.predict(X_test_simple)\n",
    "RF_ypred_prob_reduced = bestRF_mdl_reduced.predict_proba(X_test_simple)[:,1]\n",
    "\n",
    "# calculate the roc_auc_score on X_test_simple\n",
    "roc_auc_score(y_test, RF_ypred_prob_reduced)"
   ]
  },
  {
   "cell_type": "markdown",
   "metadata": {},
   "source": [
    "Using a simpler model gives a better performance than using the entire model with a roc_auc_score of **0.977**. Simple models are more robust. "
   ]
  },
  {
   "cell_type": "code",
   "execution_count": 45,
   "metadata": {},
   "outputs": [
    {
     "data": {
      "text/plain": [
       "RandomForestClassifier(bootstrap=True, class_weight=None, criterion='entropy',\n",
       "            max_depth=15, max_features='auto', max_leaf_nodes=None,\n",
       "            min_impurity_decrease=0.0, min_impurity_split=None,\n",
       "            min_samples_leaf=1, min_samples_split=2,\n",
       "            min_weight_fraction_leaf=0.0, n_estimators=50, n_jobs=1,\n",
       "            oob_score=False, random_state=None, verbose=0,\n",
       "            warm_start=False)"
      ]
     },
     "execution_count": 45,
     "metadata": {},
     "output_type": "execute_result"
    }
   ],
   "source": [
    "bestRF_mdl_reduced"
   ]
  },
  {
   "cell_type": "markdown",
   "metadata": {},
   "source": [
    "### Gradient Boosting with important features\n",
    "Gradient boosting takes the errors of the previous predictor and corrects them. In contrast to AdaBoost, the weights of the instances are not tweaked, instead, each predictor is trained using its predecessor's residual errors as labels. GradientBoosting Trees take the base learn as CART models, hence we can specify in the parameter grid params which are applicable for tuning Trees.\n",
    "\n",
    "In this case, only the top 17 features identified in the previous section are used to perform the Stochastic Gradient Boosting. In SGB each tree is trained on a random subset of rows of the training data. The subset is sampled without replacement. The percent to rows to use as subset is given by `subsample` param of the GradientBoostingClassifier. Furthermore, features are sampled (without replacement) when choosing split points. The result of this that it adds further ensemble diversity and the net effect of this is that it adds further variance to the ensemble trees. "
   ]
  },
  {
   "cell_type": "code",
   "execution_count": 125,
   "metadata": {},
   "outputs": [
    {
     "name": "stdout",
     "output_type": "stream",
     "text": [
      "# Tuning hyper-parameters for roc_auc\n",
      "\n",
      "Fitting 5 folds for each of 10 candidates, totalling 50 fits\n",
      "[CV] n_estimators=50, min_samples_split=9, max_features=0.6, max_depth=5 \n",
      "[CV] n_estimators=50, min_samples_split=9, max_features=0.6, max_depth=5 \n",
      "[CV] n_estimators=50, min_samples_split=9, max_features=0.6, max_depth=5 \n",
      "[CV] n_estimators=50, min_samples_split=9, max_features=0.6, max_depth=5 \n",
      "[CV]  n_estimators=50, min_samples_split=9, max_features=0.6, max_depth=5, total=  37.4s\n",
      "[CV] n_estimators=50, min_samples_split=9, max_features=0.6, max_depth=5 \n",
      "[CV]  n_estimators=50, min_samples_split=9, max_features=0.6, max_depth=5, total=  37.6s\n",
      "[CV]  n_estimators=50, min_samples_split=9, max_features=0.6, max_depth=5, total=  37.6s\n",
      "[CV] n_estimators=100, min_samples_split=9, max_features=0.6, max_depth=5 \n",
      "[CV] n_estimators=100, min_samples_split=9, max_features=0.6, max_depth=5 \n",
      "[CV]  n_estimators=50, min_samples_split=9, max_features=0.6, max_depth=5, total=  38.3s\n",
      "[CV] n_estimators=100, min_samples_split=9, max_features=0.6, max_depth=5 \n",
      "[CV]  n_estimators=50, min_samples_split=9, max_features=0.6, max_depth=5, total=  38.1s\n",
      "[CV] n_estimators=100, min_samples_split=9, max_features=0.6, max_depth=5 \n",
      "[CV]  n_estimators=100, min_samples_split=9, max_features=0.6, max_depth=5, total= 1.2min\n",
      "[CV] n_estimators=100, min_samples_split=9, max_features=0.6, max_depth=5 \n",
      "[CV]  n_estimators=100, min_samples_split=9, max_features=0.6, max_depth=5, total= 1.2min\n",
      "[CV] n_estimators=100, min_samples_split=9, max_features=0.8, max_depth=15 \n",
      "[CV]  n_estimators=100, min_samples_split=9, max_features=0.6, max_depth=5, total= 1.2min\n",
      "[CV] n_estimators=100, min_samples_split=9, max_features=0.8, max_depth=15 \n",
      "[CV]  n_estimators=100, min_samples_split=9, max_features=0.6, max_depth=5, total= 1.2min\n",
      "[CV] n_estimators=100, min_samples_split=9, max_features=0.8, max_depth=15 \n",
      "[CV]  n_estimators=100, min_samples_split=9, max_features=0.6, max_depth=5, total= 1.3min\n",
      "[CV] n_estimators=100, min_samples_split=9, max_features=0.8, max_depth=15 \n",
      "[CV]  n_estimators=100, min_samples_split=9, max_features=0.8, max_depth=15, total=32.3min\n",
      "[CV] n_estimators=100, min_samples_split=9, max_features=0.8, max_depth=15 \n",
      "[CV]  n_estimators=100, min_samples_split=9, max_features=0.8, max_depth=15, total=33.3min\n",
      "[CV] n_estimators=100, min_samples_split=9, max_features=0.6, max_depth=10 \n",
      "[CV]  n_estimators=100, min_samples_split=9, max_features=0.8, max_depth=15, total=33.4min\n",
      "[CV] n_estimators=100, min_samples_split=9, max_features=0.6, max_depth=10 \n",
      "[CV]  n_estimators=100, min_samples_split=9, max_features=0.8, max_depth=15, total=33.6min\n",
      "[CV] n_estimators=100, min_samples_split=9, max_features=0.6, max_depth=10 \n",
      "[CV]  n_estimators=100, min_samples_split=9, max_features=0.6, max_depth=10, total= 6.7min\n",
      "[CV] n_estimators=100, min_samples_split=9, max_features=0.6, max_depth=10 \n",
      "[CV]  n_estimators=100, min_samples_split=9, max_features=0.6, max_depth=10, total= 6.8min\n",
      "[CV] n_estimators=100, min_samples_split=9, max_features=0.6, max_depth=10 \n",
      "[CV]  n_estimators=100, min_samples_split=9, max_features=0.6, max_depth=10, total= 6.6min\n",
      "[CV] n_estimators=100, min_samples_split=2, max_features=0.8, max_depth=10 \n",
      "[CV]  n_estimators=100, min_samples_split=9, max_features=0.6, max_depth=10, total= 6.5min\n",
      "[CV] n_estimators=100, min_samples_split=2, max_features=0.8, max_depth=10 \n",
      "[CV]  n_estimators=100, min_samples_split=9, max_features=0.6, max_depth=10, total= 6.7min\n",
      "[CV] n_estimators=100, min_samples_split=2, max_features=0.8, max_depth=10 \n",
      "[CV]  n_estimators=100, min_samples_split=2, max_features=0.8, max_depth=10, total=10.0min\n",
      "[CV] n_estimators=100, min_samples_split=2, max_features=0.8, max_depth=10 \n",
      "[CV]  n_estimators=100, min_samples_split=2, max_features=0.8, max_depth=10, total=10.5min\n",
      "[CV] n_estimators=100, min_samples_split=2, max_features=0.8, max_depth=10 \n",
      "[CV]  n_estimators=100, min_samples_split=2, max_features=0.8, max_depth=10, total=10.2min\n",
      "[CV] n_estimators=40, min_samples_split=4, max_features=0.8, max_depth=10 \n",
      "[CV]  n_estimators=100, min_samples_split=2, max_features=0.8, max_depth=10, total=10.4min\n",
      "[CV] n_estimators=40, min_samples_split=4, max_features=0.8, max_depth=10 \n",
      "[CV]  n_estimators=40, min_samples_split=4, max_features=0.8, max_depth=10, total= 4.9min\n",
      "[CV] n_estimators=40, min_samples_split=4, max_features=0.8, max_depth=10 \n",
      "[CV]  n_estimators=100, min_samples_split=9, max_features=0.8, max_depth=15, total=34.4min\n",
      "[CV] n_estimators=40, min_samples_split=4, max_features=0.8, max_depth=10 \n",
      "[CV]  n_estimators=40, min_samples_split=4, max_features=0.8, max_depth=10, total= 5.1min\n",
      "[CV] n_estimators=40, min_samples_split=4, max_features=0.8, max_depth=10 \n",
      "[CV]  n_estimators=100, min_samples_split=2, max_features=0.8, max_depth=10, total=10.6min\n",
      "[CV] n_estimators=40, min_samples_split=9, max_features=0.8, max_depth=15 \n",
      "[CV]  n_estimators=40, min_samples_split=4, max_features=0.8, max_depth=10, total= 5.1min\n",
      "[CV] n_estimators=40, min_samples_split=9, max_features=0.8, max_depth=15 \n",
      "[CV]  n_estimators=40, min_samples_split=4, max_features=0.8, max_depth=10, total= 5.3min\n",
      "[CV] n_estimators=40, min_samples_split=9, max_features=0.8, max_depth=15 \n",
      "[CV]  n_estimators=40, min_samples_split=4, max_features=0.8, max_depth=10, total= 5.3min\n",
      "[CV] n_estimators=40, min_samples_split=9, max_features=0.8, max_depth=15 \n",
      "[CV]  n_estimators=40, min_samples_split=9, max_features=0.8, max_depth=15, total=20.3min\n",
      "[CV] n_estimators=40, min_samples_split=9, max_features=0.8, max_depth=15 \n",
      "[CV]  n_estimators=40, min_samples_split=9, max_features=0.8, max_depth=15, total=20.3min\n",
      "[CV] n_estimators=100, min_samples_split=2, max_features=0.8, max_depth=15 \n",
      "[CV]  n_estimators=40, min_samples_split=9, max_features=0.8, max_depth=15, total=20.1min\n",
      "[CV] n_estimators=100, min_samples_split=2, max_features=0.8, max_depth=15 \n"
     ]
    },
    {
     "name": "stderr",
     "output_type": "stream",
     "text": [
      "[Parallel(n_jobs=-1)]: Done  33 tasks      | elapsed: 94.0min\n"
     ]
    },
    {
     "name": "stdout",
     "output_type": "stream",
     "text": [
      "[CV]  n_estimators=40, min_samples_split=9, max_features=0.8, max_depth=15, total=20.0min\n",
      "[CV] n_estimators=100, min_samples_split=2, max_features=0.8, max_depth=15 \n",
      "[CV]  n_estimators=40, min_samples_split=9, max_features=0.8, max_depth=15, total=19.2min\n",
      "[CV] n_estimators=100, min_samples_split=2, max_features=0.8, max_depth=15 \n",
      "[CV]  n_estimators=100, min_samples_split=2, max_features=0.8, max_depth=15, total=61.4min\n",
      "[CV] n_estimators=100, min_samples_split=2, max_features=0.8, max_depth=15 \n",
      "[CV]  n_estimators=100, min_samples_split=2, max_features=0.8, max_depth=15, total=59.1min\n",
      "[CV] n_estimators=50, min_samples_split=2, max_features=0.8, max_depth=15 \n",
      "[CV]  n_estimators=100, min_samples_split=2, max_features=0.8, max_depth=15, total=59.8min\n",
      "[CV] n_estimators=50, min_samples_split=2, max_features=0.8, max_depth=15 \n",
      "[CV]  n_estimators=100, min_samples_split=2, max_features=0.8, max_depth=15, total=57.9min\n",
      "[CV] n_estimators=50, min_samples_split=2, max_features=0.8, max_depth=15 \n",
      "[CV]  n_estimators=50, min_samples_split=2, max_features=0.8, max_depth=15, total=31.6min\n",
      "[CV] n_estimators=50, min_samples_split=2, max_features=0.8, max_depth=15 \n",
      "[CV]  n_estimators=50, min_samples_split=2, max_features=0.8, max_depth=15, total=31.3min\n",
      "[CV] n_estimators=50, min_samples_split=2, max_features=0.8, max_depth=15 \n",
      "[CV]  n_estimators=50, min_samples_split=2, max_features=0.8, max_depth=15, total=31.4min\n",
      "[CV] n_estimators=100, min_samples_split=2, max_features=0.8, max_depth=5 \n",
      "[CV]  n_estimators=100, min_samples_split=2, max_features=0.8, max_depth=5, total= 1.6min\n",
      "[CV] n_estimators=100, min_samples_split=2, max_features=0.8, max_depth=5 \n",
      "[CV]  n_estimators=100, min_samples_split=2, max_features=0.8, max_depth=15, total=48.8min\n",
      "[CV] n_estimators=100, min_samples_split=2, max_features=0.8, max_depth=5 \n",
      "[CV]  n_estimators=100, min_samples_split=2, max_features=0.8, max_depth=5, total= 1.6min\n",
      "[CV] n_estimators=100, min_samples_split=2, max_features=0.8, max_depth=5 \n",
      "[CV]  n_estimators=100, min_samples_split=2, max_features=0.8, max_depth=5, total= 1.5min\n",
      "[CV] n_estimators=100, min_samples_split=2, max_features=0.8, max_depth=5 \n",
      "[CV]  n_estimators=100, min_samples_split=2, max_features=0.8, max_depth=5, total= 1.5min\n",
      "[CV]  n_estimators=100, min_samples_split=2, max_features=0.8, max_depth=5, total= 1.4min\n",
      "[CV]  n_estimators=50, min_samples_split=2, max_features=0.8, max_depth=15, total=24.6min\n",
      "[CV]  n_estimators=50, min_samples_split=2, max_features=0.8, max_depth=15, total=24.7min\n"
     ]
    },
    {
     "name": "stderr",
     "output_type": "stream",
     "text": [
      "[Parallel(n_jobs=-1)]: Done  50 out of  50 | elapsed: 209.9min finished\n"
     ]
    },
    {
     "name": "stdout",
     "output_type": "stream",
     "text": [
      "Best parameters set found on development set:\n",
      "\n",
      "{'n_estimators': 100, 'min_samples_split': 9, 'max_features': 0.8, 'max_depth': 15}\n",
      "\n",
      "Grid scores on development set:\n",
      "\n",
      "0.941 (+/-0.003) for {'n_estimators': 50, 'min_samples_split': 9, 'max_features': 0.6, 'max_depth': 5}\n",
      "0.959 (+/-0.004) for {'n_estimators': 100, 'min_samples_split': 9, 'max_features': 0.6, 'max_depth': 5}\n",
      "0.985 (+/-0.001) for {'n_estimators': 100, 'min_samples_split': 9, 'max_features': 0.8, 'max_depth': 15}\n",
      "0.983 (+/-0.001) for {'n_estimators': 100, 'min_samples_split': 9, 'max_features': 0.6, 'max_depth': 10}\n",
      "0.983 (+/-0.001) for {'n_estimators': 100, 'min_samples_split': 2, 'max_features': 0.8, 'max_depth': 10}\n",
      "0.978 (+/-0.001) for {'n_estimators': 40, 'min_samples_split': 4, 'max_features': 0.8, 'max_depth': 10}\n",
      "0.981 (+/-0.002) for {'n_estimators': 40, 'min_samples_split': 9, 'max_features': 0.8, 'max_depth': 15}\n",
      "0.984 (+/-0.001) for {'n_estimators': 100, 'min_samples_split': 2, 'max_features': 0.8, 'max_depth': 15}\n",
      "0.982 (+/-0.001) for {'n_estimators': 50, 'min_samples_split': 2, 'max_features': 0.8, 'max_depth': 15}\n",
      "0.959 (+/-0.002) for {'n_estimators': 100, 'min_samples_split': 2, 'max_features': 0.8, 'max_depth': 5}\n",
      "\n",
      "Detailed classification report:\n",
      "\n",
      "The model is trained on the full development set.\n",
      "The scores are computed on the full evaluation set.\n",
      "\n",
      "             precision    recall  f1-score   support\n",
      "\n",
      "          0       0.95      0.96      0.96     28776\n",
      "          1       0.94      0.92      0.93     19224\n",
      "\n",
      "avg / total       0.95      0.95      0.95     48000\n",
      "\n",
      "\n"
     ]
    }
   ],
   "source": [
    "from sklearn.ensemble import GradientBoostingClassifier\n",
    "tuned_parameters={'n_estimators':[40,50,100], 'max_depth':[5,10,15],\n",
    "                 'min_samples_split':[2,4,9], 'max_features': [0.6, 0.8]}\n",
    "scores = ['roc_auc']\n",
    "\n",
    "for score in scores:\n",
    "    print(\"# Tuning hyper-parameters for %s\" % score)\n",
    "    print()\n",
    "\n",
    "    clf_gb = RandomizedSearchCV(GradientBoostingClassifier(subsample=0.9), tuned_parameters, cv=5,\n",
    "                       scoring='%s' % score, n_iter=10, n_jobs = -1, verbose=2)\n",
    "    clf_gb.fit(X_train_simple_ada, y_train)\n",
    "\n",
    "    print(\"Best parameters set found on development set:\")\n",
    "    print()\n",
    "    print(clf_gb.best_params_)\n",
    "    print()\n",
    "    print(\"Grid scores on development set:\")\n",
    "    print()\n",
    "    means = clf_gb.cv_results_['mean_test_score']\n",
    "    stds = clf_gb.cv_results_['std_test_score']\n",
    "    for mean, std, params in zip(means, stds, clf_gb.cv_results_['params']):\n",
    "        print(\"%0.3f (+/-%0.03f) for %r\"\n",
    "              % (mean, std * 2, params))\n",
    "    print()\n",
    "\n",
    "    print(\"Detailed classification report:\")\n",
    "    print()\n",
    "    print(\"The model is trained on the full development set.\")\n",
    "    print(\"The scores are computed on the full evaluation set.\")\n",
    "    print()\n",
    "    y_true, y_pred = y_test, clf_gb.predict(X_test_simple_ada)\n",
    "    print(classification_report(y_true, y_pred))\n",
    "    print()"
   ]
  },
  {
   "cell_type": "markdown",
   "metadata": {},
   "source": [
    "The best estimator was found to be `{'n_estimators': 100, 'min_samples_split': 9, 'max_features': 0.8, 'max_depth': 15}` with an roc_auc_score on the test set of **0.985**. "
   ]
  },
  {
   "cell_type": "code",
   "execution_count": 126,
   "metadata": {},
   "outputs": [
    {
     "data": {
      "text/plain": [
       "GradientBoostingClassifier(criterion='friedman_mse', init=None,\n",
       "              learning_rate=0.1, loss='deviance', max_depth=15,\n",
       "              max_features=0.8, max_leaf_nodes=None,\n",
       "              min_impurity_decrease=0.0, min_impurity_split=None,\n",
       "              min_samples_leaf=1, min_samples_split=9,\n",
       "              min_weight_fraction_leaf=0.0, n_estimators=100,\n",
       "              presort='auto', random_state=None, subsample=0.9, verbose=0,\n",
       "              warm_start=False)"
      ]
     },
     "execution_count": 126,
     "metadata": {},
     "output_type": "execute_result"
    }
   ],
   "source": [
    "clf_gb.best_estimator_"
   ]
  },
  {
   "cell_type": "code",
   "execution_count": 127,
   "metadata": {},
   "outputs": [
    {
     "data": {
      "text/plain": [
       "0.9853109879331402"
      ]
     },
     "execution_count": 127,
     "metadata": {},
     "output_type": "execute_result"
    }
   ],
   "source": [
    "# get the best model and make predictions\n",
    "gb_best = clf_gb.best_estimator_\n",
    "gb_best_ypred = gb_best.predict(X_test_simple_ada)\n",
    "gb_best_ypred_prob = gb_best.predict_proba(X_test_simple_ada)[:,1]\n",
    "\n",
    "# calculate the roc_auc_score on X_test\n",
    "roc_auc_score(y_test, gb_best_ypred_prob)"
   ]
  },
  {
   "cell_type": "markdown",
   "metadata": {},
   "source": [
    "### Summarize the models\n",
    "Using roc_auc_score as the metric, the best model for predicting the label of y is found to be `Tuned Stochastic Gradient Boosting Classifier` with score of `0.985`"
   ]
  },
  {
   "cell_type": "code",
   "execution_count": 31,
   "metadata": {},
   "outputs": [
    {
     "data": {
      "text/plain": [
       "Tuned Stochastic GradientBoostingClassifer with top 17 features    0.985\n",
       "Tuned RandomForestClassifier with top 17 features                  0.977\n",
       "BaggingClassifier with DT                                          0.970\n",
       "Tuned Adaptive Boosting DecisionTree                               0.968\n",
       "Tuned RandomForestClassifier                                       0.966\n",
       "VotingClassifier                                                   0.929\n",
       "Tuned DecisionTreeClassifier                                       0.908\n",
       "BaggingClassifier with KNN                                         0.900\n",
       "KNeighborsClassifier                                               0.895\n",
       "CART                                                               0.844\n",
       "UnTuned Adaptive Boosting DecisionTree                             0.840\n",
       "LogisticRegression                                                 0.759\n",
       "LinearDiscriminantAnalysis                                         0.758\n",
       "NaiveBayesClassifier                                               0.747\n",
       "dtype: float64"
      ]
     },
     "execution_count": 31,
     "metadata": {},
     "output_type": "execute_result"
    }
   ],
   "source": [
    "modelSummary = {\n",
    "    'Tuned Stochastic GradientBoostingClassifer with top 17 features': 0.985,\n",
    "    'Tuned RandomForestClassifier with top 17 features': 0.977,\n",
    "    'Tuned Adaptive Boosting DecisionTree': 0.968,\n",
    "    'UnTuned Adaptive Boosting DecisionTree': 0.84,\n",
    "    'Tuned DecisionTreeClassifier': 0.908,\n",
    "    'Tuned RandomForestClassifier': 0.966,\n",
    "    'VotingClassifier': 0.929,\n",
    "    'BaggingClassifier with DT': 0.97,\n",
    "    'BaggingClassifier with KNN': 0.90,\n",
    "    'LogisticRegression': 0.759,\n",
    "    'LinearDiscriminantAnalysis': 0.758,\n",
    "    'KNeighborsClassifier': 0.895,\n",
    "    'CART': 0.844,\n",
    "    'NaiveBayesClassifier': 0.747\n",
    "}\n",
    "\n",
    "modelSummarySeries = pd.Series(modelSummary)\n",
    "modelSummarySeries.sort_values(ascending=False)"
   ]
  },
  {
   "cell_type": "markdown",
   "metadata": {},
   "source": [
    "## Deploy the model\n",
    "Finding an accurate machine learning model is not the end of the project. It is imperative to save the model for future predictions on the new data. Training computationally intensive models like Gradient Boosting takes a considerable amount of time. One way to save the models is by using the pickle module's `dump` utility. The best model can be exported to other systems and integrated into a larger pipeline. It is important to remember that this model expects the same number of features as was used to train the model."
   ]
  },
  {
   "cell_type": "code",
   "execution_count": 128,
   "metadata": {},
   "outputs": [],
   "source": [
    "from pickle import dump\n",
    "from pickle import load\n",
    "filename = 'gb_best.sav'\n",
    "dump(gb_best, open(filename, 'wb'))\n",
    "dump(importantFeatures, open('importantFeaturesRF.sav', 'wb'))\n",
    "dump(Ada_importantFeatures, open('importantFeaturesAda.sav', 'wb'))\n",
    "dump(ada_best, open('ada_best_full.sav', 'wb'))\n",
    "dump(bestRF_mdl_reduced, open('rf_best.sav', 'wb'))"
   ]
  },
  {
   "cell_type": "markdown",
   "metadata": {},
   "source": [
    "## Present Results and Insights\n",
    "\n",
    "A variety of classifier models were tried out to find which model yields the best score. Machine Learning is an emperical process, where there is some trail and error involved. But, it is possible to improve the performance of a model through a scientific process by understanding how the model parameters play a role. A general approach has been followed by training a variety of classifiers and the knowledge gained in each step was applied to training meta algorithms like Bagging and Boosting. A useful feature of using these ensemble learners with decision tree base estimators is that one can extract the top features contributing to the identification of patterns in the data. \n",
    "\n",
    "Interestingly, both ensemble methods have identified that only the same 17 features are required to predict the label of y. Given this knowledge, the researcher can narrow down his/her analysis by focusing on these features. \n",
    "\n",
    "A simple model is more robust and the predictions obtained from such a model can be considered more reliable."
   ]
  },
  {
   "cell_type": "code",
   "execution_count": 36,
   "metadata": {},
   "outputs": [
    {
     "data": {
      "text/html": [
       "<div>\n",
       "<style scoped>\n",
       "    .dataframe tbody tr th:only-of-type {\n",
       "        vertical-align: middle;\n",
       "    }\n",
       "\n",
       "    .dataframe tbody tr th {\n",
       "        vertical-align: top;\n",
       "    }\n",
       "\n",
       "    .dataframe thead th {\n",
       "        text-align: right;\n",
       "    }\n",
       "</style>\n",
       "<table border=\"1\" class=\"dataframe\">\n",
       "  <thead>\n",
       "    <tr style=\"text-align: right;\">\n",
       "      <th></th>\n",
       "      <th>Bagging</th>\n",
       "      <th>Boosting</th>\n",
       "    </tr>\n",
       "  </thead>\n",
       "  <tbody>\n",
       "    <tr>\n",
       "      <th>0</th>\n",
       "      <td>x23</td>\n",
       "      <td>x48</td>\n",
       "    </tr>\n",
       "    <tr>\n",
       "      <th>1</th>\n",
       "      <td>x20</td>\n",
       "      <td>x12</td>\n",
       "    </tr>\n",
       "    <tr>\n",
       "      <th>2</th>\n",
       "      <td>x49</td>\n",
       "      <td>x23</td>\n",
       "    </tr>\n",
       "    <tr>\n",
       "      <th>3</th>\n",
       "      <td>x48</td>\n",
       "      <td>x42</td>\n",
       "    </tr>\n",
       "    <tr>\n",
       "      <th>4</th>\n",
       "      <td>x28</td>\n",
       "      <td>x27</td>\n",
       "    </tr>\n",
       "    <tr>\n",
       "      <th>5</th>\n",
       "      <td>x42</td>\n",
       "      <td>x20</td>\n",
       "    </tr>\n",
       "    <tr>\n",
       "      <th>6</th>\n",
       "      <td>x12</td>\n",
       "      <td>x28</td>\n",
       "    </tr>\n",
       "    <tr>\n",
       "      <th>7</th>\n",
       "      <td>x27</td>\n",
       "      <td>x49</td>\n",
       "    </tr>\n",
       "    <tr>\n",
       "      <th>8</th>\n",
       "      <td>x37</td>\n",
       "      <td>x37</td>\n",
       "    </tr>\n",
       "    <tr>\n",
       "      <th>9</th>\n",
       "      <td>x7</td>\n",
       "      <td>x46</td>\n",
       "    </tr>\n",
       "    <tr>\n",
       "      <th>10</th>\n",
       "      <td>x40</td>\n",
       "      <td>x32</td>\n",
       "    </tr>\n",
       "    <tr>\n",
       "      <th>11</th>\n",
       "      <td>x38</td>\n",
       "      <td>x7</td>\n",
       "    </tr>\n",
       "    <tr>\n",
       "      <th>12</th>\n",
       "      <td>x41</td>\n",
       "      <td>x41</td>\n",
       "    </tr>\n",
       "    <tr>\n",
       "      <th>13</th>\n",
       "      <td>x46</td>\n",
       "      <td>x2</td>\n",
       "    </tr>\n",
       "    <tr>\n",
       "      <th>14</th>\n",
       "      <td>x2</td>\n",
       "      <td>x38</td>\n",
       "    </tr>\n",
       "    <tr>\n",
       "      <th>15</th>\n",
       "      <td>x6</td>\n",
       "      <td>x40</td>\n",
       "    </tr>\n",
       "    <tr>\n",
       "      <th>16</th>\n",
       "      <td>x32</td>\n",
       "      <td>x6</td>\n",
       "    </tr>\n",
       "  </tbody>\n",
       "</table>\n",
       "</div>"
      ],
      "text/plain": [
       "   Bagging Boosting\n",
       "0      x23      x48\n",
       "1      x20      x12\n",
       "2      x49      x23\n",
       "3      x48      x42\n",
       "4      x28      x27\n",
       "5      x42      x20\n",
       "6      x12      x28\n",
       "7      x27      x49\n",
       "8      x37      x37\n",
       "9       x7      x46\n",
       "10     x40      x32\n",
       "11     x38       x7\n",
       "12     x41      x41\n",
       "13     x46       x2\n",
       "14      x2      x38\n",
       "15      x6      x40\n",
       "16     x32       x6"
      ]
     },
     "execution_count": 36,
     "metadata": {},
     "output_type": "execute_result"
    }
   ],
   "source": [
    "importantFeaturesRF = load(open('importantFeaturesRF.sav', 'rb'))\n",
    "importantFeaturesADA = load(open('importantFeaturesAda.sav', 'rb'))\n",
    "impFeatures = pd.DataFrame({'Bagging': importantFeaturesRF, \n",
    "                          'Boosting': importantFeaturesADA})\n",
    "impFeatures"
   ]
  }
 ],
 "metadata": {
  "kernelspec": {
   "display_name": "Python 3",
   "language": "python",
   "name": "python3"
  },
  "language_info": {
   "codemirror_mode": {
    "name": "ipython",
    "version": 3
   },
   "file_extension": ".py",
   "mimetype": "text/x-python",
   "name": "python",
   "nbconvert_exporter": "python",
   "pygments_lexer": "ipython3",
   "version": "3.6.6"
  }
 },
 "nbformat": 4,
 "nbformat_minor": 2
}
