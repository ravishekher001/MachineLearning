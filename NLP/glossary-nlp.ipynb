{
 "cells": [
  {
   "cell_type": "markdown",
   "metadata": {},
   "source": [
    "## What is tokenization ?\n",
    "\n",
    "- Turning a string or document into tokens (smaller chunks).\n",
    "- One step in preparing text for NLP.\n",
    "- many different theories and rules for doing tokenization.\n",
    "- you can create your own rules by making use of regular expressions.\n",
    "\n",
    "The library that is commonly used for tokenization is `NLTK`.\n",
    "\n",
    "So, why bother with tokenization ?\n",
    "- Because it helps with simple text processing stuff.\n",
    "    - Easier to map parts of speech.\n",
    "    - Match common words.\n",
    "    - Remove unwanted tokens.\n",
    "\n"
   ]
  },
  {
   "cell_type": "code",
   "execution_count": null,
   "metadata": {},
   "outputs": [],
   "source": []
  }
 ],
 "metadata": {
  "kernelspec": {
   "display_name": "Python 3",
   "language": "python",
   "name": "python3"
  },
  "language_info": {
   "codemirror_mode": {
    "name": "ipython",
    "version": 3
   },
   "file_extension": ".py",
   "mimetype": "text/x-python",
   "name": "python",
   "nbconvert_exporter": "python",
   "pygments_lexer": "ipython3",
   "version": "3.5.4"
  }
 },
 "nbformat": 4,
 "nbformat_minor": 2
}
